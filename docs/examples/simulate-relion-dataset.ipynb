{
 "cells": [
  {
   "cell_type": "markdown",
   "metadata": {},
   "source": [
    "This tutorial demonstrates how to generate a particle_dataset in Relion using `cryojax`. This tutorial builds upon tools already shown in other tutorials, so we might skip over some details."
   ]
  },
  {
   "cell_type": "code",
   "execution_count": 1,
   "metadata": {},
   "outputs": [],
   "source": [
    "%load_ext autoreload\n",
    "%autoreload 2"
   ]
  },
  {
   "cell_type": "markdown",
   "metadata": {},
   "source": [
    "First we will do all the imports required to run the tutorial"
   ]
  },
  {
   "cell_type": "code",
   "execution_count": 2,
   "metadata": {},
   "outputs": [],
   "source": [
    "# Jax and Equinox imports\n",
    "from functools import partial\n",
    "\n",
    "import equinox as eqx\n",
    "import jax\n",
    "import jax.numpy as jnp\n",
    "from jaxtyping import PRNGKeyArray"
   ]
  },
  {
   "cell_type": "code",
   "execution_count": 3,
   "metadata": {},
   "outputs": [],
   "source": [
    "# Plotting imports and functions\n",
    "from matplotlib import pyplot as plt\n",
    "from mpl_toolkits.axes_grid1 import make_axes_locatable\n",
    "\n",
    "\n",
    "def plot_image(image, fig, ax, cmap=\"gray\", label=None, **kwargs):\n",
    "    im = ax.imshow(image, cmap=cmap, origin=\"lower\", **kwargs)\n",
    "    divider = make_axes_locatable(ax)\n",
    "    cax = divider.append_axes(\"right\", size=\"5%\", pad=0.05)\n",
    "    fig.colorbar(im, cax=cax)\n",
    "    if label is not None:\n",
    "        ax.set(title=label)\n",
    "    return fig, ax"
   ]
  },
  {
   "cell_type": "code",
   "execution_count": 4,
   "metadata": {},
   "outputs": [
    {
     "name": "stderr",
     "output_type": "stream",
     "text": [
      "/Data/Documents/PhD/Research/cryojax_stuff/cryojax/src/cryojax/simulator/_potential_representation/atom_potential.py:88: SyntaxWarning: invalid escape sequence '\\p'\n",
      "  \"\"\"An atomistic representation of scattering potential as a mixture of\n"
     ]
    }
   ],
   "source": [
    "# CryoJAX imports\n",
    "\n",
    "import cryojax.simulator as cxs\n",
    "from cryojax.data import (\n",
    "    RelionParticleParameterDataset,\n",
    "    RelionParticleParameters,\n",
    "    RelionParticleStackDataset,\n",
    "    write_simulated_image_stack_from_starfile,\n",
    "    write_starfile_with_particle_parameters,\n",
    ")\n",
    "from cryojax.image import operators as op\n",
    "from cryojax.io import read_atoms_from_pdb\n",
    "from cryojax.rotations import SO3"
   ]
  },
  {
   "cell_type": "markdown",
   "metadata": {},
   "source": [
    "# Generating a starfile\n",
    "\n",
    "We have split this tutorial in two parts. In the first part we will generate a starfile, but we will not generate any particles. In the second part we will show how to generate particles from a starfile, and how to save such particles to the respective MRC Files.\n",
    "\n",
    "We have decided to keep this two steps separate for a simple reason, flexibility. We want to make it possible for every user to design their own image formation pipeline. In some of our other tutorials we have showed how to generate noiseless image, images with solvent noise, or images with noise coming from a distribution. You can easily adapt this tutorial to those cases, or any other pipeline you build.\n",
    "\n",
    "Now we will start by generating a starfile. To do this, we will first create a cryojax RelionParticleParameterDataset."
   ]
  },
  {
   "cell_type": "markdown",
   "metadata": {},
   "source": [
    "In this function we vmap over `jax` random keys. You can adapt this function to your needs, such as adapting the range of the distributions for the random parameters, or changing wheter a parameter is random or not."
   ]
  },
  {
   "cell_type": "code",
   "execution_count": null,
   "metadata": {},
   "outputs": [],
   "source": [
    "# @partial(eqx.filter_vmap, in_axes=(0, None), out_axes=(eqx.if_array(0), None))\n",
    "@partial(eqx.filter_vmap, in_axes=(0, None))\n",
    "def make_particle_parameters(\n",
    "    key: PRNGKeyArray, instrument_config: cxs.InstrumentConfig\n",
    "):  # -> tuple[RelionParticleParameters, RelionParticleParameters]:\n",
    "    # Generate random parameters\n",
    "\n",
    "    # Pose\n",
    "    # ... instantiate rotations\n",
    "    key, subkey = jax.random.split(key)  # split the key to use for the next random number\n",
    "    rotation = SO3.sample_uniform(subkey)\n",
    "\n",
    "    # ... now in-plane translation\n",
    "    ny, nx = instrument_config.shape\n",
    "\n",
    "    key, subkey = jax.random.split(key)  # do this everytime you use a key!!\n",
    "    offset_in_angstroms = (\n",
    "        jax.random.uniform(subkey, (2,), minval=-0.2, maxval=0.2)\n",
    "        * jnp.asarray((nx, ny))\n",
    "        * instrument_config.pixel_size\n",
    "    )\n",
    "    # ... build the pose\n",
    "    pose = cxs.EulerAnglePose.from_rotation_and_translation(rotation, offset_in_angstroms)\n",
    "\n",
    "    # CTF Parameters\n",
    "    # ... defocus\n",
    "    key, subkey = jax.random.split(key)\n",
    "    defocus_in_angstroms = jax.random.uniform(subkey, (), minval=10000, maxval=15000)\n",
    "\n",
    "    key, subkey = jax.random.split(key)\n",
    "    astigmatism_in_angstroms = jax.random.uniform(subkey, (), minval=0, maxval=100)\n",
    "\n",
    "    key, subkey = jax.random.split(key)\n",
    "    astigmatism_angle = jax.random.uniform(subkey, (), minval=0, maxval=jnp.pi)\n",
    "\n",
    "    key, subkey = jax.random.split(key)\n",
    "    phase_shift = jax.random.uniform(subkey, (), minval=0, maxval=0)\n",
    "    # no more random numbers needed\n",
    "\n",
    "    # now generate your non-random values\n",
    "    spherical_aberration_in_mm = 2.7\n",
    "    amplitude_contrast_ratio = 0.1\n",
    "\n",
    "    # ... build the CTF\n",
    "    transfer_theory = cxs.ContrastTransferTheory(\n",
    "        ctf=cxs.CTF(\n",
    "            defocus_in_angstroms=defocus_in_angstroms,\n",
    "            astigmatism_in_angstroms=astigmatism_in_angstroms,\n",
    "            astigmatism_angle=astigmatism_angle,\n",
    "            spherical_aberration_in_mm=spherical_aberration_in_mm,\n",
    "        ),\n",
    "        amplitude_contrast_ratio=amplitude_contrast_ratio,\n",
    "        phase_shift=phase_shift,\n",
    "    )\n",
    "\n",
    "    particle_parameters = RelionParticleParameters(\n",
    "        instrument_config=instrument_config,\n",
    "        pose=pose,\n",
    "        transfer_theory=transfer_theory,\n",
    "    )\n",
    "\n",
    "    return particle_parameters"
   ]
  },
  {
   "cell_type": "code",
   "execution_count": 6,
   "metadata": {},
   "outputs": [],
   "source": [
    "# Generate instrument config\n",
    "instrument_config = cxs.InstrumentConfig(\n",
    "    shape=(128, 128),\n",
    "    pixel_size=1.5,\n",
    "    voltage_in_kilovolts=300.0,\n",
    "    pad_scale=1.0,  # no padding\n",
    ")\n",
    "\n",
    "# Generate RNG keys\n",
    "number_of_images = 100\n",
    "keys = jax.random.split(jax.random.key(0), number_of_images)\n",
    "\n",
    "# ... instantiate the RelionParticleParameterDataset\n",
    "# particle_parameters_vmap, particle_parameters_novmap = make_particle_parameters(\n",
    "#     keys, instrument_config\n",
    "# )\n",
    "\n",
    "particle_parameters = make_particle_parameters(keys, instrument_config)"
   ]
  },
  {
   "cell_type": "markdown",
   "metadata": {},
   "source": [
    "To see the values of any particular parameter, you can do"
   ]
  },
  {
   "cell_type": "markdown",
   "metadata": {},
   "source": [
    "Lastly, we can easily generate the starfile from the built-in `cryojax.data.write_starfile_with_particle_parameters` function.\n",
    "\n",
    "The `mrc_batch_size` parameter let's you specify how many particles you want per mrcfile.\n",
    "\n",
    "In this case we will place 50 images per mrcfile, giving us two mrcfiles. Just for clarification, we are not generating any mrc files in this step, this is merely for naming them in the mrcfile and assigning each image their respective parameters."
   ]
  },
  {
   "cell_type": "code",
   "execution_count": 7,
   "metadata": {},
   "outputs": [],
   "source": [
    "# ... generate the starfile\n",
    "# particle_parameters = eqx.combine(particle_parameters_vmap, particle_parameters_novmap)\n",
    "write_starfile_with_particle_parameters(\n",
    "    particle_parameters,\n",
    "    \"./outputs/relion_dataset.star\",\n",
    "    mrc_batch_size=50,\n",
    "    overwrite=True,\n",
    ")"
   ]
  },
  {
   "cell_type": "markdown",
   "metadata": {},
   "source": [
    "# Simulating particles based on a starfile and writing them to mrcs\n",
    "\n",
    "Now we will see how to define the functions required for our `write_simulated_image_stack_from_starfile` function to work.\n",
    "\n",
    "First, let's load the starfile we generated in the previous step. We will also define some objects required to generate images."
   ]
  },
  {
   "cell_type": "markdown",
   "metadata": {},
   "source": [
    "## Simulating noiseless images"
   ]
  },
  {
   "cell_type": "markdown",
   "metadata": {},
   "source": [
    "First, we will generate a stack without noise using one of `cryojax` imaging pipelines."
   ]
  },
  {
   "cell_type": "code",
   "execution_count": 8,
   "metadata": {},
   "outputs": [],
   "source": [
    "# First load the starfile\n",
    "\n",
    "path_to_mrc_files = \"./outputs/relion_dataset_particles/noiseless\"\n",
    "\n",
    "parameter_dataset = RelionParticleParameterDataset(\n",
    "    path_to_starfile=\"./outputs/relion_dataset.star\",  # starfile we created\n",
    "    path_to_relion_project=path_to_mrc_files,  # here is where the mrcs will be saved\n",
    "    loads_envelope=True,\n",
    ")"
   ]
  },
  {
   "cell_type": "markdown",
   "metadata": {},
   "source": [
    "!!! info \"For more information on reading data in RELION, check our `Read a particle stack` tutorial.\""
   ]
  },
  {
   "cell_type": "markdown",
   "metadata": {},
   "source": [
    "Now let's define the structure we will use to generate images. In this case, we show how to load a pdb and then turn it into a voxel grid. We all need to define how we will integrate our potential."
   ]
  },
  {
   "cell_type": "code",
   "execution_count": 9,
   "metadata": {},
   "outputs": [
    {
     "name": "stderr",
     "output_type": "stream",
     "text": [
      "/Data/Documents/PhD/Research/cryojax_stuff/cryojax/src/cryojax/data/_relion/_starfile_dataset.py:571: UserWarning: loads_envelope was set to True, but no envelope parameters were found. Setting envelope as None. Make sure your starfile is correctly formatted or set loads_envelope=False\n",
      "  warnings.warn(\n"
     ]
    }
   ],
   "source": [
    "from cryojax.constants import (\n",
    "    get_tabulated_scattering_factor_parameters,\n",
    "    read_peng_element_scattering_factor_parameter_table,\n",
    ")\n",
    "\n",
    "\n",
    "filename = \"./data/groel_chainA.pdb\"\n",
    "atom_positions, atom_identities, b_factors = read_atoms_from_pdb(\n",
    "    filename, center=True, select=\"not element H\", loads_b_factors=True\n",
    ")\n",
    "scattering_factor_parameters = get_tabulated_scattering_factor_parameters(\n",
    "    atom_identities, read_peng_element_scattering_factor_parameter_table()\n",
    ")\n",
    "atomic_potential = cxs.PengAtomicPotential(\n",
    "    atom_positions,\n",
    "    scattering_factor_a=scattering_factor_parameters[\"a\"],\n",
    "    scattering_factor_b=scattering_factor_parameters[\"b\"],\n",
    "    b_factors=b_factors,\n",
    ")\n",
    "\n",
    "# get values from the \"optics\" datablock in the starfile\n",
    "box_size = parameter_dataset[0].instrument_config.shape[0]\n",
    "voxel_size = parameter_dataset[0].instrument_config.pixel_size\n",
    "\n",
    "real_voxel_grid = atomic_potential.as_real_voxel_grid(\n",
    "    shape=(box_size, box_size, box_size), voxel_size=voxel_size\n",
    ")\n",
    "\n",
    "# It is usually faster to simulate images from a volume than from\n",
    "# and atomic potential. Unless you are using multiple potentials\n",
    "# or very few images.\n",
    "potential = cxs.FourierVoxelGridPotential.from_real_voxel_grid(\n",
    "    real_voxel_grid, voxel_size, pad_scale=2\n",
    ")\n",
    "\n",
    "potential_integrator = cxs.FourierSliceExtraction()"
   ]
  },
  {
   "cell_type": "markdown",
   "metadata": {},
   "source": [
    "Now we will build a function that generates an imaging pipeline from the parameter dataset"
   ]
  },
  {
   "cell_type": "code",
   "execution_count": null,
   "metadata": {},
   "outputs": [],
   "source": [
    "def build_image_model_from_particle_parameters(\n",
    "    relion_particle_parameters: RelionParticleParameters,\n",
    "    potential: cxs.AbstractPotentialRepresentation,\n",
    "    potential_integrator: cxs.AbstractPotentialIntegrator,\n",
    ") -> cxs.ContrastImageModel:\n",
    "    structural_ensemble = cxs.SingleStructureEnsemble(\n",
    "        potential, relion_particle_parameters.pose\n",
    "    )\n",
    "\n",
    "    scattering_theory = cxs.WeakPhaseScatteringTheory(\n",
    "        structural_ensemble,\n",
    "        potential_integrator,\n",
    "        relion_particle_parameters.transfer_theory,\n",
    "    )\n",
    "    image_model = cxs.ContrastImageModel(\n",
    "        relion_particle_parameters.instrument_config, scattering_theory\n",
    "    )\n",
    "    return image_model"
   ]
  },
  {
   "cell_type": "markdown",
   "metadata": {},
   "source": [
    "and a function that simply computes images from relion particle parameters.\n",
    "\n",
    "This function takes as input an instance of a RelionParticleParameters object. This should only contain information for one image! For example, this could be the output of `parameter_dataset[idx]`. The `constant_args` argument should be a PyTree that does not change between images. In this case we use our `potential` and `potential_integrator`"
   ]
  },
  {
   "cell_type": "code",
   "execution_count": null,
   "metadata": {},
   "outputs": [],
   "source": [
    "from typing import Tuple\n",
    "\n",
    "from jaxtyping import Array, Float\n",
    "\n",
    "\n",
    "def compute_image(\n",
    "    particle_parameters: RelionParticleParameters,\n",
    "    constant_args: Tuple[\n",
    "        cxs.AbstractPotentialRepresentation, cxs.AbstractPotentialIntegrator\n",
    "    ],\n",
    ") -> Float[Array, \"y_dim x_dim\"]:\n",
    "    potential, potential_integrator = constant_args\n",
    "\n",
    "    image_model = build_image_model_from_particle_parameters(\n",
    "        particle_parameters, potential, potential_integrator\n",
    "    )\n",
    "    return image_model.render()"
   ]
  },
  {
   "cell_type": "code",
   "execution_count": null,
   "metadata": {},
   "outputs": [],
   "source": [
    "image = compute_image(\n",
    "    parameter_dataset[0], constant_args=(potential, potential_integrator)\n",
    ")\n",
    "plot_image(image, plt.figure(), plt.gca(), label=\"Simulated Image\");"
   ]
  },
  {
   "cell_type": "markdown",
   "metadata": {},
   "source": [
    "Finally, we can use this function to write a particle stack!\n",
    "\n",
    "!!! info \"Our `write_simulate_image_stack_from_starfile` function expects your image computation function to be defined as `def myimage_comp_func(particle_parameters, constant_args, per_particle_args)`. However, the function defined above does not satisfy this as we do not use `per_particle_args`. Let's see how to get around this\""
   ]
  },
  {
   "cell_type": "code",
   "execution_count": null,
   "metadata": {},
   "outputs": [],
   "source": [
    "write_simulated_image_stack_from_starfile(\n",
    "    parameter_dataset,\n",
    "    lambda particle_params, const_args, _: compute_image(\n",
    "        particle_params, const_args\n",
    "    ),  # defines a new function\n",
    "    constant_args=(potential, potential_integrator),\n",
    "    # per_particle_args=None,  # this is the default value\n",
    "    is_jittable=True,\n",
    "    batch_size_per_mrc=10,\n",
    "    overwrite=True,\n",
    "    compression=None,\n",
    ")"
   ]
  },
  {
   "cell_type": "markdown",
   "metadata": {},
   "source": [
    "!!! info \"How does `write_simulated_image_stack_from_starfile` work?\"\n",
    "\n",
    "    The arguments to call this function are:\n",
    "\n",
    "    - `parameter_dataset`: needs to be an instance of `RelionParticleParameterDataset`\n",
    "    - `compute_image_fn`: function that should take (RelionParticleParameters, constant_args, per_particle_args) as input. The names are not strict, but the structure is.\n",
    "    - `constant_args`: the args for `compute_image_fn` that do not change between images.\n",
    "    - `per_particle_args`: the arguments for `compute_image_fn` with batch dimention equal to the number of images.\n",
    "    - `is_jittable`: whether or not your function can be jitted with `equinox.filter_jit`. (If you are not sure, run it and set it to False if it does not work)\n",
    "    - `batch_size_per_mrc`: if your function is jittable we will vmap the computation of the images, which might have a big memory usage. If you get some \"Ran out of memory\" error, then adjust this batch size. Setting it to \"None\" will assume no batching needs to be done. Setting it to 1 runs the code in serial mode. This is still faster than running it with `is_jittable=False`.\n",
    "    - `overwrite`: whether or not you want existing files to be overwritten.\n",
    "    - `compression`: mrcfile compression, see the `mrcfile` library docs for more information.\n",
    "\n",
    "\n",
    "    Inside our code we will call your `compute_image_fn` function to generate an image stack, and then save it as an mrcfile."
   ]
  },
  {
   "cell_type": "markdown",
   "metadata": {},
   "source": [
    "!!! info \"For more information on imaging pipelines check the `Simulate an image` tutorial.\""
   ]
  },
  {
   "cell_type": "markdown",
   "metadata": {},
   "source": [
    "## Simulating images with a noise distribution"
   ]
  },
  {
   "cell_type": "markdown",
   "metadata": {},
   "source": [
    "In this example we will use a cryojax distribution to add the noise, but in practice you can do it however you want.\n",
    "\n",
    "We need a different dataset, as we will save these images in a different folder"
   ]
  },
  {
   "cell_type": "code",
   "execution_count": null,
   "metadata": {},
   "outputs": [],
   "source": [
    "# First load the starfile\n",
    "\n",
    "path_to_mrc_files = \"./outputs/relion_dataset_particles/with_noise\"\n",
    "\n",
    "parameter_dataset_for_noise_images = RelionParticleParameterDataset(\n",
    "    path_to_starfile=\"./outputs/relion_dataset.star\",  # starfile we created\n",
    "    path_to_relion_project=path_to_mrc_files,  # here is where the mrcs will be saved\n",
    "    loads_envelope=True,\n",
    ")"
   ]
  },
  {
   "cell_type": "markdown",
   "metadata": {},
   "source": [
    "the other parameters do not change, so there is no need to initialize them again."
   ]
  },
  {
   "cell_type": "markdown",
   "metadata": {},
   "source": [
    "We will follow a simular approach as before. First, let's write a function that generates a distribution from a `RelionParticleParameters`:"
   ]
  },
  {
   "cell_type": "code",
   "execution_count": null,
   "metadata": {},
   "outputs": [],
   "source": [
    "from cryojax.inference import distributions as dist\n",
    "\n",
    "\n",
    "def build_distribution_from_particle_parameters(\n",
    "    particle_parameters: RelionParticleParameters,\n",
    "    potential: cxs.AbstractPotentialRepresentation,\n",
    "    potential_integrator: cxs.AbstractPotentialIntegrator,\n",
    "    noise_variance: float,\n",
    ") -> dist.IndependentGaussianFourierModes:\n",
    "    structural_ensemble = cxs.SingleStructureEnsemble(potential, particle_parameters.pose)\n",
    "\n",
    "    scattering_theory = cxs.WeakPhaseScatteringTheory(\n",
    "        structural_ensemble,\n",
    "        potential_integrator,\n",
    "        particle_parameters.transfer_theory,\n",
    "    )\n",
    "    image_model = cxs.ContrastImageModel(\n",
    "        particle_parameters.instrument_config, scattering_theory\n",
    "    )\n",
    "    distribution = dist.IndependentGaussianFourierModes(\n",
    "        image_model,\n",
    "        signal_scale_factor=jnp.sqrt(instrument_config.n_pixels),\n",
    "        variance_function=op.Constant(noise_variance),\n",
    "    )\n",
    "    return distribution"
   ]
  },
  {
   "cell_type": "markdown",
   "metadata": {},
   "source": [
    "and a function that generates an image. To showcase how the `per_particle_args` work we will add a couple of parameters. We will change the variance of the noise for each image, add a scaling factor, and define a `JAX` random key for each instance of noise generation."
   ]
  },
  {
   "cell_type": "code",
   "execution_count": null,
   "metadata": {},
   "outputs": [],
   "source": [
    "def compute_image_with_noise(\n",
    "    relion_particle_parameters: RelionParticleParameters,\n",
    "    constant_args: Tuple[\n",
    "        cxs.AbstractPotentialRepresentation, cxs.AbstractPotentialIntegrator\n",
    "    ],\n",
    "    per_particle_args: Tuple[float, float, PRNGKeyArray],\n",
    "):\n",
    "    potential, potential_integrator = constant_args\n",
    "    noise_variance, scale_factor, key = per_particle_args\n",
    "\n",
    "    distribution = build_distribution_from_particle_parameters(\n",
    "        relion_particle_parameters, potential, potential_integrator, noise_variance\n",
    "    )\n",
    "    return scale_factor * distribution.sample(key)"
   ]
  },
  {
   "cell_type": "markdown",
   "metadata": {},
   "source": [
    "and generate an image from such distribution"
   ]
  },
  {
   "cell_type": "code",
   "execution_count": null,
   "metadata": {},
   "outputs": [],
   "source": [
    "key = jax.random.key(0)\n",
    "\n",
    "image_with_noise = compute_image_with_noise(\n",
    "    parameter_dataset_for_noise_images[0],\n",
    "    (potential, potential_integrator),\n",
    "    (1.0, 2.0, key),\n",
    ")\n",
    "plot_image(image_with_noise, plt.figure(), plt.gca(), label=\"Simulated Image with noise\");"
   ]
  },
  {
   "cell_type": "markdown",
   "metadata": {},
   "source": [
    "Lastly, let's generate a stack with noise"
   ]
  },
  {
   "cell_type": "code",
   "execution_count": null,
   "metadata": {},
   "outputs": [],
   "source": [
    "keys = jax.random.split(key, number_of_images)\n",
    "variances = jnp.linspace(1.0, 10.0, number_of_images)\n",
    "scale_factors = jnp.linspace(1.0, 2.0, number_of_images)\n",
    "\n",
    "constant_args = (potential, potential_integrator)\n",
    "per_particle_args = (variances, scale_factors, keys)\n",
    "\n",
    "write_simulated_image_stack_from_starfile(\n",
    "    parameter_dataset_for_noise_images,\n",
    "    compute_image_with_noise,\n",
    "    constant_args=constant_args,\n",
    "    per_particle_args=per_particle_args,\n",
    "    is_jittable=True,\n",
    "    overwrite=True,\n",
    ")"
   ]
  },
  {
   "cell_type": "markdown",
   "metadata": {},
   "source": [
    "Now we can load our images using `RelionParticleStackDataset` objects"
   ]
  },
  {
   "cell_type": "code",
   "execution_count": null,
   "metadata": {},
   "outputs": [],
   "source": [
    "particle_dataset_noiseless = RelionParticleStackDataset(parameter_dataset)\n",
    "particle_dataset_noisy = RelionParticleStackDataset(parameter_dataset_for_noise_images)"
   ]
  },
  {
   "cell_type": "code",
   "execution_count": null,
   "metadata": {},
   "outputs": [],
   "source": [
    "fig, ax = plt.subplots(1, 3, figsize=(15, 5))\n",
    "\n",
    "for a in ax:\n",
    "    a.set_axis_off()\n",
    "\n",
    "im1 = plot_image(\n",
    "    particle_dataset_noiseless[0].images,\n",
    "    fig,\n",
    "    ax[0],\n",
    "    label=\"image without noise\",\n",
    ")\n",
    "\n",
    "im2 = plot_image(\n",
    "    particle_dataset_noisy[0].images,\n",
    "    fig,\n",
    "    ax[1],\n",
    "    label=\"image with noise\",\n",
    ")\n",
    "\n",
    "im3 = plot_image(\n",
    "    particle_dataset_noisy[-1].images,\n",
    "    fig,\n",
    "    ax[2],\n",
    "    label=\"image with even more noise\",\n",
    ")"
   ]
  },
  {
   "cell_type": "code",
   "execution_count": null,
   "metadata": {},
   "outputs": [],
   "source": []
  }
 ],
 "metadata": {
  "kernelspec": {
   "display_name": "cryojax-env",
   "language": "python",
   "name": "python3"
  },
  "language_info": {
   "codemirror_mode": {
    "name": "ipython",
    "version": 3
   },
   "file_extension": ".py",
   "mimetype": "text/x-python",
   "name": "python",
   "nbconvert_exporter": "python",
   "pygments_lexer": "ipython3",
   "version": "3.13.2"
  }
 },
 "nbformat": 4,
 "nbformat_minor": 2
}
