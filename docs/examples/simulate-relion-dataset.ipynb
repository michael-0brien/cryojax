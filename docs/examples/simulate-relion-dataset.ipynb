{
 "cells": [
  {
   "cell_type": "markdown",
   "metadata": {},
   "source": [
    "This tutorial demonstrates how to generate a particle_dataset in Relion using `cryojax`. This tutorial builds upon tools already shown in other tutorials, so we might skip over some details."
   ]
  },
  {
   "cell_type": "code",
   "execution_count": 1,
   "metadata": {},
   "outputs": [],
   "source": [
    "%load_ext autoreload\n",
    "%autoreload 2"
   ]
  },
  {
   "cell_type": "markdown",
   "metadata": {},
   "source": [
    "First we will do all the imports required to run the tutorial"
   ]
  },
  {
   "cell_type": "code",
   "execution_count": 2,
   "metadata": {},
   "outputs": [],
   "source": [
    "# Jax and Equinox imports\n",
    "import equinox as eqx\n",
    "import jax\n",
    "import jax.numpy as jnp\n",
    "from jaxtyping import PRNGKeyArray"
   ]
  },
  {
   "cell_type": "code",
   "execution_count": 3,
   "metadata": {},
   "outputs": [],
   "source": [
    "# Plotting imports and functions\n",
    "from matplotlib import pyplot as plt\n",
    "from mpl_toolkits.axes_grid1 import make_axes_locatable\n",
    "\n",
    "\n",
    "def plot_image(image, fig, ax, cmap=\"gray\", label=None, **kwargs):\n",
    "    im = ax.imshow(image, cmap=cmap, origin=\"lower\", **kwargs)\n",
    "    divider = make_axes_locatable(ax)\n",
    "    cax = divider.append_axes(\"right\", size=\"5%\", pad=0.05)\n",
    "    fig.colorbar(im, cax=cax)\n",
    "    if label is not None:\n",
    "        ax.set(title=label)\n",
    "    return fig, ax"
   ]
  },
  {
   "cell_type": "code",
   "execution_count": 4,
   "metadata": {},
   "outputs": [],
   "source": [
    "# CryoJAX imports\n",
    "\n",
    "import cryojax.simulator as cxs\n",
    "from cryojax.dataset import (\n",
    "    RelionParticleParameterFile,\n",
    "    RelionParticleStackDataset,\n",
    "    simulate_particle_stack,\n",
    ")\n",
    "from cryojax.io import read_atoms_from_pdb\n",
    "from cryojax.ndimage import transforms as tf\n",
    "from cryojax.rotations import SO3"
   ]
  },
  {
   "cell_type": "markdown",
   "metadata": {},
   "source": [
    "# Generating a starfile\n",
    "\n",
    "We have split this tutorial in two parts. In the first part we will generate a starfile, but we will not generate any particles. In the second part we will show how to generate particles from a starfile, and how to save such particles to the respective MRC Files.\n",
    "\n",
    "We have decided to keep this two steps separate for a simple reason, flexibility. We want to make it possible for every user to design their own image formation pipeline. In some of our other tutorials we have showed how to generate noiseless image, images with solvent noise, or images with noise coming from a distribution. You can easily adapt this tutorial to those cases, or any other pipeline you build.\n",
    "\n",
    "Now we will start by generating a starfile. To do this, we will first create a cryojax RelionParticleParameterDataset."
   ]
  },
  {
   "cell_type": "markdown",
   "metadata": {},
   "source": [
    "In this function we vmap over `jax` random keys. You can adapt this function to your needs, such as adapting the range of the distributions for the random parameters, or changing wheter a parameter is random or not."
   ]
  },
  {
   "cell_type": "code",
   "execution_count": 5,
   "metadata": {},
   "outputs": [],
   "source": [
    "@eqx.filter_vmap(in_axes=(0, None))\n",
    "def make_particle_parameters(key: PRNGKeyArray, config: cxs.BasicImageConfig):\n",
    "    \"\"\"Generate random parameters.\"\"\"\n",
    "    # Pose\n",
    "    # ... instantiate rotations\n",
    "    key, subkey = jax.random.split(key)  # split the key to use for the next random number\n",
    "    rotation = SO3.sample_uniform(subkey)\n",
    "\n",
    "    # ... now in-plane translation\n",
    "    ny, nx = config.shape\n",
    "\n",
    "    key, subkey = jax.random.split(key)  # do this everytime you use a key!!\n",
    "    offset_in_angstroms = (\n",
    "        jax.random.uniform(subkey, (2,), minval=-0.1, maxval=0.1)\n",
    "        * jnp.asarray((nx, ny))\n",
    "        / 2\n",
    "        * config.pixel_size\n",
    "    )\n",
    "    # ... build the pose\n",
    "    pose = cxs.EulerAnglePose.from_rotation_and_translation(rotation, offset_in_angstroms)\n",
    "\n",
    "    # CTF Parameters\n",
    "    # ... defocus\n",
    "    key, subkey = jax.random.split(key)\n",
    "    defocus_in_angstroms = jax.random.uniform(subkey, (), minval=10000, maxval=15000)\n",
    "    # ... astigmatism\n",
    "    key, subkey = jax.random.split(key)\n",
    "    astigmatism_in_angstroms = jax.random.uniform(subkey, (), minval=0, maxval=100)\n",
    "    key, subkey = jax.random.split(key)\n",
    "    astigmatism_angle = jax.random.uniform(subkey, (), minval=0, maxval=jnp.pi)\n",
    "    # Now non-random values\n",
    "    spherical_aberration_in_mm = 2.7\n",
    "    amplitude_contrast_ratio = 0.1\n",
    "    # Build the CTF\n",
    "    transfer_theory = cxs.ContrastTransferTheory(\n",
    "        ctf=cxs.AstigmaticCTF(\n",
    "            defocus_in_angstroms=defocus_in_angstroms,\n",
    "            astigmatism_in_angstroms=astigmatism_in_angstroms,\n",
    "            astigmatism_angle=astigmatism_angle,\n",
    "            spherical_aberration_in_mm=spherical_aberration_in_mm,\n",
    "        ),\n",
    "        amplitude_contrast_ratio=amplitude_contrast_ratio,\n",
    "    )\n",
    "\n",
    "    return {\n",
    "        \"image_config\": config,\n",
    "        \"pose\": pose,\n",
    "        \"transfer_theory\": transfer_theory,\n",
    "    }"
   ]
  },
  {
   "cell_type": "code",
   "execution_count": 6,
   "metadata": {},
   "outputs": [],
   "source": [
    "# Generate instrument config\n",
    "config = cxs.BasicImageConfig(\n",
    "    shape=(128, 128),\n",
    "    pixel_size=1.5,\n",
    "    voltage_in_kilovolts=300.0,\n",
    ")\n",
    "# Generate RNG keys\n",
    "number_of_images = 100\n",
    "keys = jax.random.split(jax.random.key(0), number_of_images)\n",
    "particle_parameters = make_particle_parameters(keys, config)"
   ]
  },
  {
   "cell_type": "markdown",
   "metadata": {},
   "source": [
    "Let's now create a starfile and add the newly created particle parameters"
   ]
  },
  {
   "cell_type": "code",
   "execution_count": 12,
   "metadata": {},
   "outputs": [],
   "source": [
    "# ... generate the starfile\n",
    "new_parameters_file = RelionParticleParameterFile(\n",
    "    path_to_starfile=\"./outputs/relion_dataset.star\",\n",
    "    mode=\"w\",  # writing mode!\n",
    "    exists_ok=True,  # in case the file already exists\n",
    "    broadcasts_image_config=False,\n",
    ")\n",
    "new_parameters_file.append(particle_parameters)\n",
    "new_parameters_file.save(overwrite=True)"
   ]
  },
  {
   "cell_type": "markdown",
   "metadata": {},
   "source": [
    "# Simulating particles based on a starfile and writing them to mrcs\n",
    "\n",
    "Now we will see how to define the functions required for our `write_simulated_image_stack_from_starfile` function to work.\n",
    "\n",
    "First, let's load the starfile we generated in the previous step. We will also define some objects required to generate images."
   ]
  },
  {
   "cell_type": "markdown",
   "metadata": {},
   "source": [
    "## Simulating noiseless images"
   ]
  },
  {
   "cell_type": "markdown",
   "metadata": {},
   "source": [
    "First, we will generate a stack without noise using one of `cryojax` imaging pipelines. Start by creating a `RelionParticleDataset` in writing mode."
   ]
  },
  {
   "cell_type": "code",
   "execution_count": 13,
   "metadata": {},
   "outputs": [],
   "source": [
    "# First load the starfile\n",
    "path_to_mrc_files = \"./outputs/relion_dataset_particles/noiseless\"\n",
    "\n",
    "noiseless_particle_dataset = RelionParticleStackDataset(\n",
    "    new_parameters_file,\n",
    "    path_to_relion_project=path_to_mrc_files,\n",
    "    mode=\"w\",\n",
    "    mrcfile_settings={\"overwrite\": True},  # customize your .mrcs !\n",
    ")"
   ]
  },
  {
   "cell_type": "markdown",
   "metadata": {},
   "source": [
    "!!! info \"For more information on reading data in RELION, check our `Read a particle stack` tutorial.\""
   ]
  },
  {
   "cell_type": "markdown",
   "metadata": {},
   "source": [
    "Now let's define the structure we will use to generate images. In this case, we show how to load a pdb and then turn it into a voxel grid. We all need to define how we will integrate our potential."
   ]
  },
  {
   "cell_type": "code",
   "execution_count": 14,
   "metadata": {},
   "outputs": [],
   "source": [
    "filename = \"./data/groel_chainA.pdb\"\n",
    "atom_positions, atom_types, b_factors = read_atoms_from_pdb(\n",
    "    filename,\n",
    "    center=True,\n",
    "    loads_b_factors=True,\n",
    "    selection_string=\"not element H\",\n",
    ")\n",
    "scattering_parameters = cxs.PengScatteringFactorParameters(atom_types)\n",
    "atom_volume = cxs.PengAtomicVolume.from_tabulated_parameters(\n",
    "    atom_positions,\n",
    "    scattering_parameters,\n",
    "    extra_b_factors=b_factors,\n",
    ")\n",
    "\n",
    "# get values from the \"optics\" datablock in the starfile\n",
    "box_size = config.shape[0]\n",
    "voxel_size = config.pixel_size\n",
    "\n",
    "real_voxel_grid = atom_volume.to_real_voxel_grid(\n",
    "    shape=(box_size, box_size, box_size), voxel_size=voxel_size\n",
    ")\n",
    "\n",
    "# It is usually faster to simulate images from a volume than from\n",
    "# and atomic potential. Unless you are using multiple potentials\n",
    "# or very few images.\n",
    "voxel_volume = cxs.FourierVoxelGridVolume.from_real_voxel_grid(\n",
    "    real_voxel_grid, pad_scale=2\n",
    ")\n",
    "\n",
    "integrator = cxs.FourierSliceExtraction()"
   ]
  },
  {
   "cell_type": "markdown",
   "metadata": {},
   "source": [
    "Now we will build a function that computes and image given a set of parameters. Notice the structure of the function. This structure is required for a function we will use in a bit."
   ]
  },
  {
   "cell_type": "code",
   "execution_count": 15,
   "metadata": {},
   "outputs": [],
   "source": [
    "def compute_image(particle_parameters, constant_args, per_particle_args):\n",
    "    \"\"\"Compute a single image from the given particle parameters.\n",
    "\n",
    "    **Arguments:**\n",
    "\n",
    "    - particle_parameters:\n",
    "        A dictionary containing the parameters for the particle.\n",
    "        This is an element of a `RelionParticleParameterFile`.\n",
    "    - `constant_args`:\n",
    "        A PyTree containing arguments that stay constant across all particles.\n",
    "    - `per_particle_args`:\n",
    "        A PyTree containing arguments that change for each particle.\n",
    "    \"\"\"\n",
    "    volume, integrator = constant_args\n",
    "    image_model = cxs.make_image_model(\n",
    "        volume_parametrisation=volume,\n",
    "        pose=particle_parameters[\"pose\"],\n",
    "        image_config=particle_parameters[\"image_config\"],\n",
    "        transfer_theory=particle_parameters[\"transfer_theory\"],\n",
    "        volume_integrator=integrator,\n",
    "    )\n",
    "\n",
    "    return image_model.simulate()"
   ]
  },
  {
   "cell_type": "code",
   "execution_count": 16,
   "metadata": {},
   "outputs": [
    {
     "ename": "ValueError",
     "evalue": "Incompatible shapes for broadcasting: shapes=[(0,), (128, 65)]",
     "output_type": "error",
     "traceback": [
      "\u001b[31m---------------------------------------------------------------------------\u001b[39m",
      "\u001b[31mTypeError\u001b[39m                                 Traceback (most recent call last)",
      "\u001b[36mFile \u001b[39m\u001b[32m~/venvs/cryojax/lib/python3.11/site-packages/jax/_src/lax/lax.py:219\u001b[39m, in \u001b[36m_broadcast_shapes_uncached\u001b[39m\u001b[34m(*shapes)\u001b[39m\n\u001b[32m    218\u001b[39m \u001b[38;5;28;01mtry\u001b[39;00m:\n\u001b[32m--> \u001b[39m\u001b[32m219\u001b[39m   \u001b[38;5;28;01mreturn\u001b[39;00m \u001b[43m_try_broadcast_shapes\u001b[49m\u001b[43m(\u001b[49m\u001b[43m*\u001b[49m\u001b[43mrank_promoted_shapes\u001b[49m\u001b[43m,\u001b[49m\u001b[43m \u001b[49m\u001b[43mname\u001b[49m\u001b[43m=\u001b[49m\u001b[33;43m'\u001b[39;49m\u001b[33;43mbroadcast_shapes\u001b[39;49m\u001b[33;43m'\u001b[39;49m\u001b[43m)\u001b[49m\n\u001b[32m    220\u001b[39m \u001b[38;5;28;01mexcept\u001b[39;00m \u001b[38;5;167;01mTypeError\u001b[39;00m \u001b[38;5;28;01mas\u001b[39;00m err:\n\u001b[32m    221\u001b[39m   \u001b[38;5;66;03m# Raise ValueError here for backward compatibility.\u001b[39;00m\n",
      "\u001b[36mFile \u001b[39m\u001b[32m~/venvs/cryojax/lib/python3.11/site-packages/jax/_src/lax/lax.py:136\u001b[39m, in \u001b[36m_try_broadcast_shapes\u001b[39m\u001b[34m(name, *shapes)\u001b[39m\n\u001b[32m    135\u001b[39m     \u001b[38;5;28;01melse\u001b[39;00m:\n\u001b[32m--> \u001b[39m\u001b[32m136\u001b[39m       \u001b[38;5;28;01mraise\u001b[39;00m \u001b[38;5;167;01mTypeError\u001b[39;00m(\u001b[33mf\u001b[39m\u001b[33m'\u001b[39m\u001b[38;5;132;01m{\u001b[39;00mname\u001b[38;5;132;01m}\u001b[39;00m\u001b[33m got incompatible shapes for broadcasting: \u001b[39m\u001b[33m'\u001b[39m\n\u001b[32m    137\u001b[39m                       \u001b[33mf\u001b[39m\u001b[33m'\u001b[39m\u001b[38;5;132;01m{\u001b[39;00m\u001b[33m\"\u001b[39m\u001b[33m, \u001b[39m\u001b[33m\"\u001b[39m.join(\u001b[38;5;28mmap\u001b[39m(\u001b[38;5;28mstr\u001b[39m,\u001b[38;5;250m \u001b[39m\u001b[38;5;28mmap\u001b[39m(\u001b[38;5;28mtuple\u001b[39m,\u001b[38;5;250m \u001b[39mshapes)))\u001b[38;5;132;01m}\u001b[39;00m\u001b[33m.\u001b[39m\u001b[33m'\u001b[39m)\n\u001b[32m    138\u001b[39m \u001b[38;5;28;01mreturn\u001b[39;00m \u001b[38;5;28mtuple\u001b[39m(result_shape)\n",
      "\u001b[31mTypeError\u001b[39m: broadcast_shapes got incompatible shapes for broadcasting: (1, 0), (128, 65).",
      "\nThe above exception was the direct cause of the following exception:\n",
      "\u001b[31mValueError\u001b[39m                                Traceback (most recent call last)",
      "    \u001b[31m[... skipping hidden 1 frame]\u001b[39m\n",
      "\u001b[36mFile \u001b[39m\u001b[32m~/venvs/cryojax/lib/python3.11/site-packages/jax/_src/util.py:299\u001b[39m, in \u001b[36mcache.<locals>.wrap.<locals>.wrapper\u001b[39m\u001b[34m(*args, **kwargs)\u001b[39m\n\u001b[32m    298\u001b[39m   \u001b[38;5;28;01mreturn\u001b[39;00m f(*args, **kwargs)\n\u001b[32m--> \u001b[39m\u001b[32m299\u001b[39m \u001b[38;5;28;01mreturn\u001b[39;00m \u001b[43mcached\u001b[49m\u001b[43m(\u001b[49m\u001b[43mconfig\u001b[49m\u001b[43m.\u001b[49m\u001b[43mtrace_context\u001b[49m\u001b[43m(\u001b[49m\u001b[43m)\u001b[49m\u001b[43m \u001b[49m\u001b[38;5;28;43;01mif\u001b[39;49;00m\u001b[43m \u001b[49m\u001b[43mtrace_context_in_key\u001b[49m\u001b[43m \u001b[49m\u001b[38;5;28;43;01melse\u001b[39;49;00m\u001b[43m \u001b[49m\u001b[43m_ignore\u001b[49m\u001b[43m(\u001b[49m\u001b[43m)\u001b[49m\u001b[43m,\u001b[49m\n\u001b[32m    300\u001b[39m \u001b[43m              \u001b[49m\u001b[43m*\u001b[49m\u001b[43margs\u001b[49m\u001b[43m,\u001b[49m\u001b[43m \u001b[49m\u001b[43m*\u001b[49m\u001b[43m*\u001b[49m\u001b[43mkwargs\u001b[49m\u001b[43m)\u001b[49m\n",
      "\u001b[36mFile \u001b[39m\u001b[32m~/venvs/cryojax/lib/python3.11/site-packages/jax/_src/util.py:293\u001b[39m, in \u001b[36mcache.<locals>.wrap.<locals>.cached\u001b[39m\u001b[34m(_, *args, **kwargs)\u001b[39m\n\u001b[32m    291\u001b[39m \u001b[38;5;129m@functools\u001b[39m.lru_cache(max_size)\n\u001b[32m    292\u001b[39m \u001b[38;5;28;01mdef\u001b[39;00m\u001b[38;5;250m \u001b[39m\u001b[34mcached\u001b[39m(_, *args, **kwargs):\n\u001b[32m--> \u001b[39m\u001b[32m293\u001b[39m   \u001b[38;5;28;01mreturn\u001b[39;00m \u001b[43mf\u001b[49m\u001b[43m(\u001b[49m\u001b[43m*\u001b[49m\u001b[43margs\u001b[49m\u001b[43m,\u001b[49m\u001b[43m \u001b[49m\u001b[43m*\u001b[49m\u001b[43m*\u001b[49m\u001b[43mkwargs\u001b[49m\u001b[43m)\u001b[49m\n",
      "\u001b[36mFile \u001b[39m\u001b[32m~/venvs/cryojax/lib/python3.11/site-packages/jax/_src/lax/lax.py:203\u001b[39m, in \u001b[36m_broadcast_shapes_cached\u001b[39m\u001b[34m(*shapes)\u001b[39m\n\u001b[32m    201\u001b[39m \u001b[38;5;129m@cache\u001b[39m()\n\u001b[32m    202\u001b[39m \u001b[38;5;28;01mdef\u001b[39;00m\u001b[38;5;250m \u001b[39m\u001b[34m_broadcast_shapes_cached\u001b[39m(*shapes: \u001b[38;5;28mtuple\u001b[39m[\u001b[38;5;28mint\u001b[39m, ...]) -> \u001b[38;5;28mtuple\u001b[39m[\u001b[38;5;28mint\u001b[39m, ...]:\n\u001b[32m--> \u001b[39m\u001b[32m203\u001b[39m   \u001b[38;5;28;01mreturn\u001b[39;00m \u001b[43m_broadcast_shapes_uncached\u001b[49m\u001b[43m(\u001b[49m\u001b[43m*\u001b[49m\u001b[43mshapes\u001b[49m\u001b[43m)\u001b[49m\n",
      "\u001b[36mFile \u001b[39m\u001b[32m~/venvs/cryojax/lib/python3.11/site-packages/jax/_src/lax/lax.py:222\u001b[39m, in \u001b[36m_broadcast_shapes_uncached\u001b[39m\u001b[34m(*shapes)\u001b[39m\n\u001b[32m    220\u001b[39m \u001b[38;5;28;01mexcept\u001b[39;00m \u001b[38;5;167;01mTypeError\u001b[39;00m \u001b[38;5;28;01mas\u001b[39;00m err:\n\u001b[32m    221\u001b[39m   \u001b[38;5;66;03m# Raise ValueError here for backward compatibility.\u001b[39;00m\n\u001b[32m--> \u001b[39m\u001b[32m222\u001b[39m   \u001b[38;5;28;01mraise\u001b[39;00m \u001b[38;5;167;01mValueError\u001b[39;00m(\u001b[33mf\u001b[39m\u001b[33m\"\u001b[39m\u001b[33mIncompatible shapes for broadcasting: shapes=\u001b[39m\u001b[38;5;132;01m{\u001b[39;00m\u001b[38;5;28mlist\u001b[39m(shapes)\u001b[38;5;132;01m}\u001b[39;00m\u001b[33m\"\u001b[39m) \u001b[38;5;28;01mfrom\u001b[39;00m\u001b[38;5;250m \u001b[39m\u001b[34;01merr\u001b[39;00m\n",
      "\u001b[31mValueError\u001b[39m: Incompatible shapes for broadcasting: shapes=[(0,), (128, 65)]",
      "\nDuring handling of the above exception, another exception occurred:\n",
      "\u001b[31mTypeError\u001b[39m                                 Traceback (most recent call last)",
      "    \u001b[31m[... skipping hidden 1 frame]\u001b[39m\n",
      "\u001b[36mFile \u001b[39m\u001b[32m~/venvs/cryojax/lib/python3.11/site-packages/jax/_src/lax/lax.py:136\u001b[39m, in \u001b[36m_try_broadcast_shapes\u001b[39m\u001b[34m(name, *shapes)\u001b[39m\n\u001b[32m    135\u001b[39m     \u001b[38;5;28;01melse\u001b[39;00m:\n\u001b[32m--> \u001b[39m\u001b[32m136\u001b[39m       \u001b[38;5;28;01mraise\u001b[39;00m \u001b[38;5;167;01mTypeError\u001b[39;00m(\u001b[33mf\u001b[39m\u001b[33m'\u001b[39m\u001b[38;5;132;01m{\u001b[39;00mname\u001b[38;5;132;01m}\u001b[39;00m\u001b[33m got incompatible shapes for broadcasting: \u001b[39m\u001b[33m'\u001b[39m\n\u001b[32m    137\u001b[39m                       \u001b[33mf\u001b[39m\u001b[33m'\u001b[39m\u001b[38;5;132;01m{\u001b[39;00m\u001b[33m\"\u001b[39m\u001b[33m, \u001b[39m\u001b[33m\"\u001b[39m.join(\u001b[38;5;28mmap\u001b[39m(\u001b[38;5;28mstr\u001b[39m,\u001b[38;5;250m \u001b[39m\u001b[38;5;28mmap\u001b[39m(\u001b[38;5;28mtuple\u001b[39m,\u001b[38;5;250m \u001b[39mshapes)))\u001b[38;5;132;01m}\u001b[39;00m\u001b[33m.\u001b[39m\u001b[33m'\u001b[39m)\n\u001b[32m    138\u001b[39m \u001b[38;5;28;01mreturn\u001b[39;00m \u001b[38;5;28mtuple\u001b[39m(result_shape)\n",
      "\u001b[31mTypeError\u001b[39m: broadcast_shapes got incompatible shapes for broadcasting: (1, 0), (128, 65).",
      "\nThe above exception was the direct cause of the following exception:\n",
      "\u001b[31mValueError\u001b[39m                                Traceback (most recent call last)",
      "\u001b[36mCell\u001b[39m\u001b[36m \u001b[39m\u001b[32mIn[16]\u001b[39m\u001b[32m, line 1\u001b[39m\n\u001b[32m----> \u001b[39m\u001b[32m1\u001b[39m image = \u001b[43mcompute_image\u001b[49m\u001b[43m(\u001b[49m\n\u001b[32m      2\u001b[39m \u001b[43m    \u001b[49m\u001b[43mnew_parameters_file\u001b[49m\u001b[43m[\u001b[49m\u001b[32;43m0\u001b[39;49m\u001b[43m]\u001b[49m\u001b[43m,\u001b[49m\n\u001b[32m      3\u001b[39m \u001b[43m    \u001b[49m\u001b[43mconstant_args\u001b[49m\u001b[43m=\u001b[49m\u001b[43m(\u001b[49m\u001b[43mvoxel_volume\u001b[49m\u001b[43m,\u001b[49m\u001b[43m \u001b[49m\u001b[43mintegrator\u001b[49m\u001b[43m)\u001b[49m\u001b[43m,\u001b[49m\n\u001b[32m      4\u001b[39m \u001b[43m    \u001b[49m\u001b[43mper_particle_args\u001b[49m\u001b[43m=\u001b[49m\u001b[38;5;28;43;01mNone\u001b[39;49;00m\u001b[43m,\u001b[49m\n\u001b[32m      5\u001b[39m \u001b[43m)\u001b[49m\n\u001b[32m      6\u001b[39m plot_image(image, plt.figure(), plt.gca(), label=\u001b[33m\"\u001b[39m\u001b[33mSimulated Image\u001b[39m\u001b[33m\"\u001b[39m);\n",
      "\u001b[36mCell\u001b[39m\u001b[36m \u001b[39m\u001b[32mIn[15]\u001b[39m\u001b[32m, line 23\u001b[39m, in \u001b[36mcompute_image\u001b[39m\u001b[34m(particle_parameters, constant_args, per_particle_args)\u001b[39m\n\u001b[32m     14\u001b[39m volume, integrator = constant_args\n\u001b[32m     15\u001b[39m image_model = cxs.make_image_model(\n\u001b[32m     16\u001b[39m     volume_parametrisation=volume,\n\u001b[32m     17\u001b[39m     pose=particle_parameters[\u001b[33m\"\u001b[39m\u001b[33mpose\u001b[39m\u001b[33m\"\u001b[39m],\n\u001b[32m   (...)\u001b[39m\u001b[32m     20\u001b[39m     volume_integrator=integrator,\n\u001b[32m     21\u001b[39m )\n\u001b[32m---> \u001b[39m\u001b[32m23\u001b[39m \u001b[38;5;28;01mreturn\u001b[39;00m \u001b[43mimage_model\u001b[49m\u001b[43m.\u001b[49m\u001b[43msimulate\u001b[49m\u001b[43m(\u001b[49m\u001b[43m)\u001b[49m\n",
      "    \u001b[31m[... skipping hidden 1 frame]\u001b[39m\n",
      "\u001b[36mFile \u001b[39m\u001b[32m~/Library/CloudStorage/OneDrive-HarvardUniversity/needleman/projects/cryojax/src/cryojax/simulator/_image_model/base_image_model.py:96\u001b[39m, in \u001b[36mAbstractImageModel.simulate\u001b[39m\u001b[34m(self, rng_key, removes_padding, outputs_real_space, mask, filter)\u001b[39m\n\u001b[32m     67\u001b[39m \u001b[38;5;28;01mdef\u001b[39;00m\u001b[38;5;250m \u001b[39m\u001b[34msimulate\u001b[39m(\n\u001b[32m     68\u001b[39m     \u001b[38;5;28mself\u001b[39m,\n\u001b[32m     69\u001b[39m     rng_key: Optional[PRNGKeyArray] = \u001b[38;5;28;01mNone\u001b[39;00m,\n\u001b[32m   (...)\u001b[39m\u001b[32m     74\u001b[39m     \u001b[38;5;28mfilter\u001b[39m: Optional[FilterLike] = \u001b[38;5;28;01mNone\u001b[39;00m,\n\u001b[32m     75\u001b[39m ) -> Array:\n\u001b[32m     76\u001b[39m \u001b[38;5;250m    \u001b[39m\u001b[33;03m\"\"\"Render an image.\u001b[39;00m\n\u001b[32m     77\u001b[39m \n\u001b[32m     78\u001b[39m \u001b[33;03m    **Arguments:**\u001b[39;00m\n\u001b[32m   (...)\u001b[39m\u001b[32m     94\u001b[39m \u001b[33;03m        Optionally apply a filter to the image.\u001b[39;00m\n\u001b[32m     95\u001b[39m \u001b[33;03m    \"\"\"\u001b[39;00m\n\u001b[32m---> \u001b[39m\u001b[32m96\u001b[39m     fourier_image = \u001b[38;5;28;43mself\u001b[39;49m\u001b[43m.\u001b[49m\u001b[43mcompute_fourier_image\u001b[49m\u001b[43m(\u001b[49m\u001b[43mrng_key\u001b[49m\u001b[43m)\u001b[49m\n\u001b[32m     98\u001b[39m     \u001b[38;5;28;01mreturn\u001b[39;00m \u001b[38;5;28mself\u001b[39m._maybe_postprocess(\n\u001b[32m     99\u001b[39m         fourier_image,\n\u001b[32m    100\u001b[39m         removes_padding=removes_padding,\n\u001b[32m   (...)\u001b[39m\u001b[32m    103\u001b[39m         \u001b[38;5;28mfilter\u001b[39m=\u001b[38;5;28mfilter\u001b[39m,\n\u001b[32m    104\u001b[39m     )\n",
      "    \u001b[31m[... skipping hidden 1 frame]\u001b[39m\n",
      "\u001b[36mFile \u001b[39m\u001b[32m~/Library/CloudStorage/OneDrive-HarvardUniversity/needleman/projects/cryojax/src/cryojax/simulator/_image_model/base_image_model.py:299\u001b[39m, in \u001b[36mLinearImageModel.compute_fourier_image\u001b[39m\u001b[34m(self, rng_key)\u001b[39m\n\u001b[32m    295\u001b[39m fourier_image = \u001b[38;5;28mself\u001b[39m.volume_integrator.integrate(\n\u001b[32m    296\u001b[39m     volume_representation, \u001b[38;5;28mself\u001b[39m.image_config, outputs_real_space=\u001b[38;5;28;01mFalse\u001b[39;00m\n\u001b[32m    297\u001b[39m )\n\u001b[32m    298\u001b[39m \u001b[38;5;66;03m# Compute the image\u001b[39;00m\n\u001b[32m--> \u001b[39m\u001b[32m299\u001b[39m fourier_image = \u001b[38;5;28;43mself\u001b[39;49m\u001b[43m.\u001b[49m\u001b[43mtransfer_theory\u001b[49m\u001b[43m.\u001b[49m\u001b[43mpropagate_object\u001b[49m\u001b[43m(\u001b[49m\u001b[43m  \u001b[49m\u001b[38;5;66;43;03m# noqa: E501\u001b[39;49;00m\n\u001b[32m    300\u001b[39m \u001b[43m    \u001b[49m\u001b[43mfourier_image\u001b[49m\u001b[43m,\u001b[49m\n\u001b[32m    301\u001b[39m \u001b[43m    \u001b[49m\u001b[38;5;28;43mself\u001b[39;49m\u001b[43m.\u001b[49m\u001b[43mimage_config\u001b[49m\u001b[43m,\u001b[49m\n\u001b[32m    302\u001b[39m \u001b[43m    \u001b[49m\u001b[43mis_projection_approximation\u001b[49m\u001b[43m=\u001b[49m\u001b[38;5;28;43mself\u001b[39;49m\u001b[43m.\u001b[49m\u001b[43mvolume_integrator\u001b[49m\u001b[43m.\u001b[49m\u001b[43mis_projection_approximation\u001b[49m\u001b[43m,\u001b[49m\n\u001b[32m    303\u001b[39m \u001b[43m    \u001b[49m\u001b[43mdefocus_offset\u001b[49m\u001b[43m=\u001b[49m\u001b[38;5;28;43mself\u001b[39;49m\u001b[43m.\u001b[49m\u001b[43mpose\u001b[49m\u001b[43m.\u001b[49m\u001b[43moffset_z_in_angstroms\u001b[49m\u001b[43m,\u001b[49m\n\u001b[32m    304\u001b[39m \u001b[43m\u001b[49m\u001b[43m)\u001b[49m\n\u001b[32m    305\u001b[39m \u001b[38;5;66;03m# Now for the in-plane translation\u001b[39;00m\n\u001b[32m    306\u001b[39m \u001b[38;5;28;01mif\u001b[39;00m \u001b[38;5;28mself\u001b[39m.applies_translation:\n",
      "    \u001b[31m[... skipping hidden 1 frame]\u001b[39m\n",
      "\u001b[36mFile \u001b[39m\u001b[32m~/Library/CloudStorage/OneDrive-HarvardUniversity/needleman/projects/cryojax/src/cryojax/simulator/_transfer_theory/transfer_theory.py:94\u001b[39m, in \u001b[36mContrastTransferTheory.propagate_object\u001b[39m\u001b[34m(self, object_spectrum, image_config, defocus_offset, is_projection_approximation)\u001b[39m\n\u001b[32m     91\u001b[39m frequency_grid = image_config.padded_frequency_grid_in_angstroms\n\u001b[32m     92\u001b[39m \u001b[38;5;28;01mif\u001b[39;00m is_projection_approximation:\n\u001b[32m     93\u001b[39m     \u001b[38;5;66;03m# Compute the CTF, including additional phase shifts\u001b[39;00m\n\u001b[32m---> \u001b[39m\u001b[32m94\u001b[39m     ctf_array = \u001b[38;5;28;43mself\u001b[39;49m\u001b[43m.\u001b[49m\u001b[43mctf\u001b[49m\u001b[43m(\u001b[49m\n\u001b[32m     95\u001b[39m \u001b[43m        \u001b[49m\u001b[43mfrequency_grid\u001b[49m\u001b[43m,\u001b[49m\n\u001b[32m     96\u001b[39m \u001b[43m        \u001b[49m\u001b[43mvoltage_in_kilovolts\u001b[49m\u001b[43m=\u001b[49m\u001b[43mimage_config\u001b[49m\u001b[43m.\u001b[49m\u001b[43mvoltage_in_kilovolts\u001b[49m\u001b[43m,\u001b[49m\n\u001b[32m     97\u001b[39m \u001b[43m        \u001b[49m\u001b[43mphase_shift\u001b[49m\u001b[43m=\u001b[49m\u001b[38;5;28;43mself\u001b[39;49m\u001b[43m.\u001b[49m\u001b[43mphase_shift\u001b[49m\u001b[43m,\u001b[49m\n\u001b[32m     98\u001b[39m \u001b[43m        \u001b[49m\u001b[43mamplitude_contrast_ratio\u001b[49m\u001b[43m=\u001b[49m\u001b[38;5;28;43mself\u001b[39;49m\u001b[43m.\u001b[49m\u001b[43mamplitude_contrast_ratio\u001b[49m\u001b[43m,\u001b[49m\n\u001b[32m     99\u001b[39m \u001b[43m        \u001b[49m\u001b[43moutputs_exp\u001b[49m\u001b[43m=\u001b[49m\u001b[38;5;28;43;01mFalse\u001b[39;49;00m\u001b[43m,\u001b[49m\n\u001b[32m    100\u001b[39m \u001b[43m        \u001b[49m\u001b[43mdefocus_offset\u001b[49m\u001b[43m=\u001b[49m\u001b[43mdefocus_offset\u001b[49m\u001b[43m,\u001b[49m\n\u001b[32m    101\u001b[39m \u001b[43m    \u001b[49m\u001b[43m)\u001b[49m\n\u001b[32m    102\u001b[39m     \u001b[38;5;66;03m# ... compute the contrast as the CTF multiplied by the exit plane\u001b[39;00m\n\u001b[32m    103\u001b[39m     \u001b[38;5;66;03m# phase shifts\u001b[39;00m\n\u001b[32m    104\u001b[39m     contrast_spectrum = ctf_array * object_spectrum\n",
      "\u001b[36mFile \u001b[39m\u001b[32m~/Library/CloudStorage/OneDrive-HarvardUniversity/needleman/projects/cryojax/src/cryojax/simulator/_transfer_theory/transfer_function.py:62\u001b[39m, in \u001b[36mAbstractCTF.__call__\u001b[39m\u001b[34m(self, frequency_grid_in_angstroms, voltage_in_kilovolts, amplitude_contrast_ratio, phase_shift, outputs_exp, defocus_offset)\u001b[39m\n\u001b[32m     58\u001b[39m wavelength_in_angstroms = wavelength_from_kilovolts(\n\u001b[32m     59\u001b[39m     jnp.asarray(voltage_in_kilovolts)\n\u001b[32m     60\u001b[39m )\n\u001b[32m     61\u001b[39m \u001b[38;5;66;03m# Frequency-dependent phase shifts\u001b[39;00m\n\u001b[32m---> \u001b[39m\u001b[32m62\u001b[39m aberration_phase_shifts = \u001b[38;5;28;43mself\u001b[39;49m\u001b[43m.\u001b[49m\u001b[43mcompute_aberration_phase_shifts\u001b[49m\u001b[43m(\u001b[49m\n\u001b[32m     63\u001b[39m \u001b[43m    \u001b[49m\u001b[43mfrequency_grid_in_angstroms\u001b[49m\u001b[43m,\u001b[49m\n\u001b[32m     64\u001b[39m \u001b[43m    \u001b[49m\u001b[43mwavelength_in_angstroms\u001b[49m\u001b[43m=\u001b[49m\u001b[43mwavelength_in_angstroms\u001b[49m\u001b[43m,\u001b[49m\n\u001b[32m     65\u001b[39m \u001b[43m    \u001b[49m\u001b[43mdefocus_offset\u001b[49m\u001b[43m=\u001b[49m\u001b[43mdefocus_offset\u001b[49m\u001b[43m,\u001b[49m\n\u001b[32m     66\u001b[39m \u001b[43m\u001b[49m\u001b[43m)\u001b[49m\n\u001b[32m     67\u001b[39m \u001b[38;5;66;03m# Constant phase shift, convert degrees to radians\u001b[39;00m\n\u001b[32m     68\u001b[39m phase_shift = jnp.deg2rad(phase_shift)\n",
      "    \u001b[31m[... skipping hidden 1 frame]\u001b[39m\n",
      "\u001b[36mFile \u001b[39m\u001b[32m~/Library/CloudStorage/OneDrive-HarvardUniversity/needleman/projects/cryojax/src/cryojax/simulator/_transfer_theory/transfer_function.py:158\u001b[39m, in \u001b[36mAstigmaticCTF.compute_aberration_phase_shifts\u001b[39m\u001b[34m(self, frequency_grid_in_angstroms, wavelength_in_angstroms, defocus_offset)\u001b[39m\n\u001b[32m    156\u001b[39m spherical_aberration_in_angstroms = \u001b[38;5;28mself\u001b[39m.spherical_aberration_in_mm * \u001b[32m1e7\u001b[39m\n\u001b[32m    157\u001b[39m \u001b[38;5;66;03m# Compute phase shifts for CTF\u001b[39;00m\n\u001b[32m--> \u001b[39m\u001b[32m158\u001b[39m phase_shifts = \u001b[43mcompute_phase_shifts_with_spherical_aberration\u001b[49m\u001b[43m(\u001b[49m\n\u001b[32m    159\u001b[39m \u001b[43m    \u001b[49m\u001b[43mfrequency_grid_in_angstroms\u001b[49m\u001b[43m,\u001b[49m\n\u001b[32m    160\u001b[39m \u001b[43m    \u001b[49m\u001b[43m(\u001b[49m\n\u001b[32m    161\u001b[39m \u001b[43m        \u001b[49m\u001b[38;5;28;43mself\u001b[39;49m\u001b[43m.\u001b[49m\u001b[43mdefocus_in_angstroms\u001b[49m\n\u001b[32m    162\u001b[39m \u001b[43m        \u001b[49m\u001b[38;5;28;43;01mif\u001b[39;49;00m\u001b[43m \u001b[49m\u001b[43mdefocus_offset\u001b[49m\u001b[43m \u001b[49m\u001b[38;5;129;43;01mis\u001b[39;49;00m\u001b[43m \u001b[49m\u001b[38;5;28;43;01mNone\u001b[39;49;00m\n\u001b[32m    163\u001b[39m \u001b[43m        \u001b[49m\u001b[38;5;28;43;01melse\u001b[39;49;00m\u001b[43m \u001b[49m\u001b[38;5;28;43mself\u001b[39;49m\u001b[43m.\u001b[49m\u001b[43mdefocus_in_angstroms\u001b[49m\u001b[43m \u001b[49m\u001b[43m+\u001b[49m\u001b[43m \u001b[49m\u001b[43mjnp\u001b[49m\u001b[43m.\u001b[49m\u001b[43masarray\u001b[49m\u001b[43m(\u001b[49m\u001b[43mdefocus_offset\u001b[49m\u001b[43m,\u001b[49m\u001b[43m \u001b[49m\u001b[43mdtype\u001b[49m\u001b[43m=\u001b[49m\u001b[38;5;28;43mfloat\u001b[39;49m\u001b[43m)\u001b[49m\n\u001b[32m    164\u001b[39m \u001b[43m    \u001b[49m\u001b[43m)\u001b[49m\u001b[43m,\u001b[49m\n\u001b[32m    165\u001b[39m \u001b[43m    \u001b[49m\u001b[38;5;28;43mself\u001b[39;49m\u001b[43m.\u001b[49m\u001b[43mastigmatism_in_angstroms\u001b[49m\u001b[43m,\u001b[49m\n\u001b[32m    166\u001b[39m \u001b[43m    \u001b[49m\u001b[43mastigmatism_angle\u001b[49m\u001b[43m,\u001b[49m\n\u001b[32m    167\u001b[39m \u001b[43m    \u001b[49m\u001b[43mjnp\u001b[49m\u001b[43m.\u001b[49m\u001b[43masarray\u001b[49m\u001b[43m(\u001b[49m\u001b[43mwavelength_in_angstroms\u001b[49m\u001b[43m,\u001b[49m\u001b[43m \u001b[49m\u001b[43mdtype\u001b[49m\u001b[43m=\u001b[49m\u001b[38;5;28;43mfloat\u001b[39;49m\u001b[43m)\u001b[49m\u001b[43m,\u001b[49m\n\u001b[32m    168\u001b[39m \u001b[43m    \u001b[49m\u001b[43mspherical_aberration_in_angstroms\u001b[49m\u001b[43m,\u001b[49m\n\u001b[32m    169\u001b[39m \u001b[43m\u001b[49m\u001b[43m)\u001b[49m\n\u001b[32m    170\u001b[39m \u001b[38;5;28;01mreturn\u001b[39;00m phase_shifts\n",
      "\u001b[36mFile \u001b[39m\u001b[32m~/Library/CloudStorage/OneDrive-HarvardUniversity/needleman/projects/cryojax/src/cryojax/simulator/_transfer_theory/common_functions.py:22\u001b[39m, in \u001b[36mcompute_phase_shifts_with_spherical_aberration\u001b[39m\u001b[34m(frequency_grid_in_angstroms, defocus_in_angstroms, astigmatism_in_angstroms, astigmatism_angle, wavelength_in_angstroms, spherical_aberration_in_angstroms)\u001b[39m\n\u001b[32m     17\u001b[39m defocus = defocus_in_angstroms + \u001b[32m0.5\u001b[39m * astigmatism_in_angstroms * jnp.cos(\n\u001b[32m     18\u001b[39m     \u001b[32m2.0\u001b[39m * (azimuth - astigmatism_angle)\n\u001b[32m     19\u001b[39m )\n\u001b[32m     20\u001b[39m defocus_phase_shifts = -\u001b[32m0.5\u001b[39m * defocus * wavelength_in_angstroms * k_sqr\n\u001b[32m     21\u001b[39m aberration_phase_shifts = (\n\u001b[32m---> \u001b[39m\u001b[32m22\u001b[39m     \u001b[32;43m0.25\u001b[39;49m\n\u001b[32m     23\u001b[39m \u001b[43m    \u001b[49m\u001b[43m*\u001b[49m\u001b[43m \u001b[49m\u001b[43mspherical_aberration_in_angstroms\u001b[49m\n\u001b[32m     24\u001b[39m \u001b[43m    \u001b[49m\u001b[43m*\u001b[49m\u001b[43m \u001b[49m\u001b[43m(\u001b[49m\u001b[43mwavelength_in_angstroms\u001b[49m\u001b[43m*\u001b[49m\u001b[43m*\u001b[49m\u001b[32;43m3\u001b[39;49m\u001b[43m)\u001b[49m\n\u001b[32m     25\u001b[39m \u001b[43m    \u001b[49m\u001b[43m*\u001b[49m\u001b[43m \u001b[49m\u001b[43m(\u001b[49m\u001b[43mk_sqr\u001b[49m\u001b[43m*\u001b[49m\u001b[43m*\u001b[49m\u001b[32;43m2\u001b[39;49m\u001b[43m)\u001b[49m\n\u001b[32m     26\u001b[39m )\n\u001b[32m     27\u001b[39m phase_shifts = (\u001b[32m2\u001b[39m * jnp.pi) * (defocus_phase_shifts + aberration_phase_shifts)\n\u001b[32m     29\u001b[39m \u001b[38;5;28;01mreturn\u001b[39;00m phase_shifts\n",
      "\u001b[36mFile \u001b[39m\u001b[32m~/venvs/cryojax/lib/python3.11/site-packages/jax/_src/numpy/array_methods.py:583\u001b[39m, in \u001b[36m_defer_to_unrecognized_arg.<locals>.deferring_binary_op\u001b[39m\u001b[34m(self, other)\u001b[39m\n\u001b[32m    581\u001b[39m args = (other, \u001b[38;5;28mself\u001b[39m) \u001b[38;5;28;01mif\u001b[39;00m swap \u001b[38;5;28;01melse\u001b[39;00m (\u001b[38;5;28mself\u001b[39m, other)\n\u001b[32m    582\u001b[39m \u001b[38;5;28;01mif\u001b[39;00m \u001b[38;5;28misinstance\u001b[39m(other, _accepted_binop_types):\n\u001b[32m--> \u001b[39m\u001b[32m583\u001b[39m   \u001b[38;5;28;01mreturn\u001b[39;00m \u001b[43mbinary_op\u001b[49m\u001b[43m(\u001b[49m\u001b[43m*\u001b[49m\u001b[43margs\u001b[49m\u001b[43m)\u001b[49m\n\u001b[32m    584\u001b[39m \u001b[38;5;66;03m# Note: don't use isinstance here, because we don't want to raise for\u001b[39;00m\n\u001b[32m    585\u001b[39m \u001b[38;5;66;03m# subclasses, e.g. NamedTuple objects that may override operators.\u001b[39;00m\n\u001b[32m    586\u001b[39m \u001b[38;5;28;01mif\u001b[39;00m \u001b[38;5;28mtype\u001b[39m(other) \u001b[38;5;129;01min\u001b[39;00m _rejected_binop_types:\n",
      "\u001b[36mFile \u001b[39m\u001b[32m~/venvs/cryojax/lib/python3.11/site-packages/jax/_src/numpy/ufunc_api.py:182\u001b[39m, in \u001b[36mufunc.__call__\u001b[39m\u001b[34m(self, out, where, *args)\u001b[39m\n\u001b[32m    180\u001b[39m   \u001b[38;5;28;01mraise\u001b[39;00m \u001b[38;5;167;01mNotImplementedError\u001b[39;00m(\u001b[33mf\u001b[39m\u001b[33m\"\u001b[39m\u001b[33mwhere argument of \u001b[39m\u001b[38;5;132;01m{\u001b[39;00m\u001b[38;5;28mself\u001b[39m\u001b[38;5;132;01m}\u001b[39;00m\u001b[33m\"\u001b[39m)\n\u001b[32m    181\u001b[39m call = \u001b[38;5;28mself\u001b[39m.__static_props[\u001b[33m'\u001b[39m\u001b[33mcall\u001b[39m\u001b[33m'\u001b[39m] \u001b[38;5;129;01mor\u001b[39;00m \u001b[38;5;28mself\u001b[39m._call_vectorized\n\u001b[32m--> \u001b[39m\u001b[32m182\u001b[39m \u001b[38;5;28;01mreturn\u001b[39;00m \u001b[43mcall\u001b[49m\u001b[43m(\u001b[49m\u001b[43m*\u001b[49m\u001b[43margs\u001b[49m\u001b[43m)\u001b[49m\n",
      "    \u001b[31m[... skipping hidden 14 frame]\u001b[39m\n",
      "\u001b[36mFile \u001b[39m\u001b[32m~/venvs/cryojax/lib/python3.11/site-packages/jax/_src/numpy/ufuncs.py:1279\u001b[39m, in \u001b[36mmultiply\u001b[39m\u001b[34m(x, y)\u001b[39m\n\u001b[32m   1252\u001b[39m \u001b[38;5;129m@binary_ufunc\u001b[39m(identity=\u001b[32m1\u001b[39m, reduce=reductions.prod, accumulate=reductions.cumprod, at=_multiply_at)\n\u001b[32m   1253\u001b[39m \u001b[38;5;28;01mdef\u001b[39;00m\u001b[38;5;250m \u001b[39m\u001b[34mmultiply\u001b[39m(x: ArrayLike, y: ArrayLike, /) -> Array:\n\u001b[32m   1254\u001b[39m \u001b[38;5;250m  \u001b[39m\u001b[33;03m\"\"\"Multiply two arrays element-wise.\u001b[39;00m\n\u001b[32m   1255\u001b[39m \n\u001b[32m   1256\u001b[39m \u001b[33;03m  JAX implementation of :obj:`numpy.multiply`. This is a universal function,\u001b[39;00m\n\u001b[32m   (...)\u001b[39m\u001b[32m   1277\u001b[39m \u001b[33;03m    Array([ 0, 10, 20, 30], dtype=int32)\u001b[39;00m\n\u001b[32m   1278\u001b[39m \u001b[33;03m  \"\"\"\u001b[39;00m\n\u001b[32m-> \u001b[39m\u001b[32m1279\u001b[39m   x, y = \u001b[43mpromote_args\u001b[49m\u001b[43m(\u001b[49m\u001b[33;43m\"\u001b[39;49m\u001b[33;43mmultiply\u001b[39;49m\u001b[33;43m\"\u001b[39;49m\u001b[43m,\u001b[49m\u001b[43m \u001b[49m\u001b[43mx\u001b[49m\u001b[43m,\u001b[49m\u001b[43m \u001b[49m\u001b[43my\u001b[49m\u001b[43m)\u001b[49m\n\u001b[32m   1280\u001b[39m   \u001b[38;5;28;01mreturn\u001b[39;00m lax.mul(x, y) \u001b[38;5;28;01mif\u001b[39;00m x.dtype != \u001b[38;5;28mbool\u001b[39m \u001b[38;5;28;01melse\u001b[39;00m lax.bitwise_and(x, y)\n",
      "\u001b[36mFile \u001b[39m\u001b[32m~/venvs/cryojax/lib/python3.11/site-packages/jax/_src/numpy/util.py:228\u001b[39m, in \u001b[36mpromote_args\u001b[39m\u001b[34m(fun_name, *args)\u001b[39m\n\u001b[32m    226\u001b[39m _check_no_float0s(fun_name, *args)\n\u001b[32m    227\u001b[39m check_for_prngkeys(fun_name, *args)\n\u001b[32m--> \u001b[39m\u001b[32m228\u001b[39m \u001b[38;5;28;01mreturn\u001b[39;00m \u001b[43mpromote_shapes\u001b[49m\u001b[43m(\u001b[49m\u001b[43mfun_name\u001b[49m\u001b[43m,\u001b[49m\u001b[43m \u001b[49m\u001b[43m*\u001b[49m\u001b[43mpromote_dtypes\u001b[49m\u001b[43m(\u001b[49m\u001b[43m*\u001b[49m\u001b[43margs\u001b[49m\u001b[43m)\u001b[49m\u001b[43m)\u001b[49m\n",
      "\u001b[36mFile \u001b[39m\u001b[32m~/venvs/cryojax/lib/python3.11/site-packages/jax/_src/numpy/util.py:64\u001b[39m, in \u001b[36mpromote_shapes\u001b[39m\u001b[34m(fun_name, *args)\u001b[39m\n\u001b[32m     62\u001b[39m \u001b[38;5;28;01mif\u001b[39;00m config.numpy_rank_promotion.value != \u001b[33m\"\u001b[39m\u001b[33mallow\u001b[39m\u001b[33m\"\u001b[39m:\n\u001b[32m     63\u001b[39m   _rank_promotion_warning_or_error(fun_name, shapes)\n\u001b[32m---> \u001b[39m\u001b[32m64\u001b[39m result_rank = \u001b[38;5;28mlen\u001b[39m(\u001b[43mlax\u001b[49m\u001b[43m.\u001b[49m\u001b[43mbroadcast_shapes\u001b[49m\u001b[43m(\u001b[49m\u001b[43m*\u001b[49m\u001b[43mshapes\u001b[49m\u001b[43m)\u001b[49m)\n\u001b[32m     65\u001b[39m \u001b[38;5;28;01mreturn\u001b[39;00m [lax.broadcast_to_rank(arg, result_rank) \u001b[38;5;28;01mfor\u001b[39;00m arg \u001b[38;5;129;01min\u001b[39;00m args]\n",
      "    \u001b[31m[... skipping hidden 1 frame]\u001b[39m\n",
      "\u001b[36mFile \u001b[39m\u001b[32m~/venvs/cryojax/lib/python3.11/site-packages/jax/_src/lax/lax.py:222\u001b[39m, in \u001b[36m_broadcast_shapes_uncached\u001b[39m\u001b[34m(*shapes)\u001b[39m\n\u001b[32m    219\u001b[39m   \u001b[38;5;28;01mreturn\u001b[39;00m _try_broadcast_shapes(*rank_promoted_shapes, name=\u001b[33m'\u001b[39m\u001b[33mbroadcast_shapes\u001b[39m\u001b[33m'\u001b[39m)\n\u001b[32m    220\u001b[39m \u001b[38;5;28;01mexcept\u001b[39;00m \u001b[38;5;167;01mTypeError\u001b[39;00m \u001b[38;5;28;01mas\u001b[39;00m err:\n\u001b[32m    221\u001b[39m   \u001b[38;5;66;03m# Raise ValueError here for backward compatibility.\u001b[39;00m\n\u001b[32m--> \u001b[39m\u001b[32m222\u001b[39m   \u001b[38;5;28;01mraise\u001b[39;00m \u001b[38;5;167;01mValueError\u001b[39;00m(\u001b[33mf\u001b[39m\u001b[33m\"\u001b[39m\u001b[33mIncompatible shapes for broadcasting: shapes=\u001b[39m\u001b[38;5;132;01m{\u001b[39;00m\u001b[38;5;28mlist\u001b[39m(shapes)\u001b[38;5;132;01m}\u001b[39;00m\u001b[33m\"\u001b[39m) \u001b[38;5;28;01mfrom\u001b[39;00m\u001b[38;5;250m \u001b[39m\u001b[34;01merr\u001b[39;00m\n",
      "\u001b[31mValueError\u001b[39m: Incompatible shapes for broadcasting: shapes=[(0,), (128, 65)]"
     ]
    }
   ],
   "source": [
    "image = compute_image(\n",
    "    new_parameters_file[0],\n",
    "    constant_args=(voxel_volume, integrator),\n",
    "    per_particle_args=None,\n",
    ")\n",
    "plot_image(image, plt.figure(), plt.gca(), label=\"Simulated Image\");"
   ]
  },
  {
   "cell_type": "markdown",
   "metadata": {},
   "source": [
    "Now let's generate a particle stack using our function and the parameters we generated"
   ]
  },
  {
   "cell_type": "code",
   "execution_count": null,
   "metadata": {},
   "outputs": [],
   "source": [
    "simulate_particle_stack(\n",
    "    noiseless_particle_dataset,\n",
    "    compute_image_fn=compute_image,\n",
    "    constant_args=(voxel_volume, integrator),\n",
    "    per_particle_args=None,\n",
    "    batch_size=10,  # this is for images generated in parallel\n",
    "    images_per_file=50,\n",
    "    overwrite=True,\n",
    ")"
   ]
  },
  {
   "cell_type": "markdown",
   "metadata": {},
   "source": [
    "## Simulating images with a noise model"
   ]
  },
  {
   "cell_type": "markdown",
   "metadata": {},
   "source": [
    "In this example we will use a cryojax model to add the noise, but in practice you can do it however you want.\n",
    "\n",
    "We need a different dataset, as we will save these images in a different folder"
   ]
  },
  {
   "cell_type": "code",
   "execution_count": null,
   "metadata": {},
   "outputs": [],
   "source": [
    "# First load the starfile\n",
    "\n",
    "path_to_mrc_files = \"./outputs/relion_dataset_particles/with_noise\"\n",
    "\n",
    "noisy_particle_dataset = RelionParticleStackDataset(\n",
    "    new_parameters_file,\n",
    "    path_to_relion_project=path_to_mrc_files,\n",
    "    mode=\"w\",\n",
    "    mrcfile_settings={\"overwrite\": True},  # customize your .mrcs !\n",
    ")"
   ]
  },
  {
   "cell_type": "markdown",
   "metadata": {},
   "source": [
    "the other parameters do not change, so there is no need to initialize them again."
   ]
  },
  {
   "cell_type": "markdown",
   "metadata": {},
   "source": [
    "We will follow a simular approach as before, except now we need a couple more arguments, and to create a cryojax noise model.\n",
    "\n",
    "An image is defined as image = signal + noise. We will define a mask to normalize the signal such that it has mean 0 and variance 1. This will allows to easily set a signal-to-noise ratio (snr) by simply scaling the signal and setting the noise variance as 1. Let's see how to do this in code:"
   ]
  },
  {
   "cell_type": "code",
   "execution_count": null,
   "metadata": {},
   "outputs": [],
   "source": [
    "from cryojax.simulator import UncorrelatedGaussianNoiseModel\n",
    "\n",
    "\n",
    "def compute_image_with_noise(particle_parameters, constant_args, per_particle_args):\n",
    "    volume, integrator, signal_region, snr = constant_args\n",
    "    noise_key = per_particle_args  # jax random stuff\n",
    "    image_model = cxs.make_image_model(\n",
    "        volume_parametrisation=volume,\n",
    "        pose=particle_parameters[\"pose\"],\n",
    "        image_config=particle_parameters[\"image_config\"],\n",
    "        transfer_theory=particle_parameters[\"transfer_theory\"],\n",
    "        volume_integrator=integrator,\n",
    "        normalizes_signal=True,\n",
    "        signal_region=signal_region,\n",
    "    )\n",
    "    noise_model = UncorrelatedGaussianNoiseModel(\n",
    "        image_model,\n",
    "        variance=1.0,\n",
    "        signal_scale_factor=jnp.sqrt(snr),\n",
    "    )\n",
    "\n",
    "    return noise_model.sample(noise_key)"
   ]
  },
  {
   "cell_type": "markdown",
   "metadata": {},
   "source": [
    "and generate an image from such distribution"
   ]
  },
  {
   "cell_type": "code",
   "execution_count": null,
   "metadata": {},
   "outputs": [],
   "source": [
    "key = jax.random.key(0)\n",
    "mask = tf.CircularCosineMask(\n",
    "    coordinate_grid=config.coordinate_grid_in_pixels,\n",
    "    radius=config.shape[0] // 2,\n",
    "    rolloff_width=0.0,\n",
    ")\n",
    "snr, signal_region = 0.5, mask.get() == 1\n",
    "\n",
    "image_with_noise = compute_image_with_noise(\n",
    "    new_parameters_file[0],\n",
    "    (voxel_volume, integrator, signal_region, snr),\n",
    "    key,\n",
    ")\n",
    "plot_image(image_with_noise, plt.figure(), plt.gca(), label=\"Simulated Image with noise\");"
   ]
  },
  {
   "cell_type": "markdown",
   "metadata": {},
   "source": [
    "Lastly, let's generate a stack with noise"
   ]
  },
  {
   "cell_type": "code",
   "execution_count": null,
   "metadata": {},
   "outputs": [],
   "source": [
    "key = jax.random.key(0)\n",
    "noise_keys = jax.random.split(key, len(noisy_particle_dataset))\n",
    "\n",
    "simulate_particle_stack(\n",
    "    noisy_particle_dataset,\n",
    "    compute_image_fn=compute_image_with_noise,\n",
    "    constant_args=(voxel_volume, integrator, signal_region, snr),\n",
    "    per_particle_args=(noise_keys),\n",
    "    batch_size=10,\n",
    "    images_per_file=50,\n",
    "    overwrite=True,\n",
    ")"
   ]
  },
  {
   "cell_type": "markdown",
   "metadata": {},
   "source": [
    "Now we can load our images using `RelionParticleStackDataset` objects"
   ]
  },
  {
   "cell_type": "code",
   "execution_count": null,
   "metadata": {},
   "outputs": [],
   "source": [
    "fig, ax = plt.subplots(1, 2, figsize=(7, 3.5))\n",
    "\n",
    "for a in ax:\n",
    "    a.set_axis_off()\n",
    "\n",
    "im1 = plot_image(\n",
    "    noiseless_particle_dataset[0][\"images\"],\n",
    "    fig,\n",
    "    ax[0],\n",
    "    label=\"image without noise\",\n",
    ")\n",
    "im2 = plot_image(\n",
    "    noisy_particle_dataset[0][\"images\"],\n",
    "    fig,\n",
    "    ax[1],\n",
    "    label=\"image with noise\",\n",
    ")"
   ]
  }
 ],
 "metadata": {
  "kernelspec": {
   "display_name": "cryojax",
   "language": "python",
   "name": "python3"
  },
  "language_info": {
   "codemirror_mode": {
    "name": "ipython",
    "version": 3
   },
   "file_extension": ".py",
   "mimetype": "text/x-python",
   "name": "python",
   "nbconvert_exporter": "python",
   "pygments_lexer": "ipython3",
   "version": "3.11.4"
  }
 },
 "nbformat": 4,
 "nbformat_minor": 2
}
