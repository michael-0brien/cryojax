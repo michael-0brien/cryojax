{
 "cells": [
  {
   "cell_type": "markdown",
   "metadata": {},
   "source": [
    "This tutorial demonstrates how to generate a particle_reader in Relion using `cryojax`. This tutorial builds upon tools already shown in other tutorials, so we might skip over some details."
   ]
  },
  {
   "cell_type": "code",
   "execution_count": 1,
   "metadata": {},
   "outputs": [],
   "source": [
    "%load_ext autoreload\n",
    "%autoreload 2"
   ]
  },
  {
   "cell_type": "markdown",
   "metadata": {},
   "source": [
    "First we will do all the imports required to run the tutorial"
   ]
  },
  {
   "cell_type": "code",
   "execution_count": 2,
   "metadata": {},
   "outputs": [],
   "source": [
    "# Jax and Equinox imports\n",
    "from functools import partial\n",
    "\n",
    "import equinox as eqx\n",
    "import jax\n",
    "import jax.numpy as jnp\n",
    "from jaxtyping import PRNGKeyArray"
   ]
  },
  {
   "cell_type": "code",
   "execution_count": 3,
   "metadata": {},
   "outputs": [],
   "source": [
    "# Plotting imports and functions\n",
    "from matplotlib import pyplot as plt\n",
    "from mpl_toolkits.axes_grid1 import make_axes_locatable\n",
    "\n",
    "\n",
    "def plot_image(image, fig, ax, cmap=\"gray\", label=None, **kwargs):\n",
    "    im = ax.imshow(image, cmap=cmap, origin=\"lower\", **kwargs)\n",
    "    divider = make_axes_locatable(ax)\n",
    "    cax = divider.append_axes(\"right\", size=\"5%\", pad=0.05)\n",
    "    fig.colorbar(im, cax=cax)\n",
    "    if label is not None:\n",
    "        ax.set(title=label)\n",
    "    return fig, ax"
   ]
  },
  {
   "cell_type": "code",
   "execution_count": 4,
   "metadata": {},
   "outputs": [],
   "source": [
    "# CryoJAX imports\n",
    "\n",
    "import cryojax.simulator as cxs\n",
    "from cryojax.data import (\n",
    "    ParticleParameters,\n",
    "    RelionParticleImageReader,\n",
    "    RelionParticleParameterReader,\n",
    "    write_simulated_image_stack_from_starfile,\n",
    "    write_starfile_with_particle_parameters,\n",
    ")\n",
    "from cryojax.image import operators as op\n",
    "from cryojax.io import read_atoms_from_pdb\n",
    "from cryojax.rotations import SO3"
   ]
  },
  {
   "cell_type": "markdown",
   "metadata": {},
   "source": [
    "# Generating a starfile\n",
    "\n",
    "We have split this tutorial in two parts. In the first part we will generate a starfile, but we will not generate any particles. In the second part we will show how to generate particles from a starfile, and how to save such particles to the respective MRC Files.\n",
    "\n",
    "We have decided to keep this two steps separate for a simple reason, flexibility. We want to make it possible for every user to design their own image formation pipeline. In some of our other tutorials we have showed how to generate noiseless image, images with solvent noise, or images with noise coming from a distribution. You can easily adapt this tutorial to those cases, or any other pipeline you build.\n",
    "\n",
    "Now we will start by generating a starfile. To do this, we will first create a cryojax RelionParticleParameterReader."
   ]
  },
  {
   "cell_type": "markdown",
   "metadata": {},
   "source": [
    "In this function we vmap over `jax` random keys. You can adapt this function to your needs, such as adapting the range of the distributions for the random parameters, or changing wheter a parameter is random or not."
   ]
  },
  {
   "cell_type": "code",
   "execution_count": 5,
   "metadata": {},
   "outputs": [],
   "source": [
    "# @partial(eqx.filter_vmap, in_axes=(0, None), out_axes=(eqx.if_array(0), None))\n",
    "@partial(eqx.filter_vmap, in_axes=(0, None))\n",
    "def make_particle_parameters(\n",
    "    key: PRNGKeyArray, instrument_config: cxs.InstrumentConfig\n",
    "):  # -> tuple[RelionParticleParameters, RelionParticleParameters]:\n",
    "    # Generate random parameters\n",
    "\n",
    "    # Pose\n",
    "    # ... instantiate rotations\n",
    "\n",
    "    key, subkey = jax.random.split(key)  # split the key to use for the next random number\n",
    "\n",
    "    rotation = SO3.sample_uniform(subkey)\n",
    "    key, subkey = jax.random.split(key)  # do this everytime you use a key!!\n",
    "\n",
    "    # ... now in-plane translation\n",
    "    ny, nx = instrument_config.shape\n",
    "    offset_in_angstroms = (\n",
    "        jax.random.uniform(subkey, (2,), minval=-0.2, maxval=0.2)\n",
    "        * jnp.asarray((nx, ny))\n",
    "        * instrument_config.pixel_size\n",
    "    )\n",
    "    # ... build the pose\n",
    "    pose = cxs.EulerAnglePose.from_rotation_and_translation(rotation, offset_in_angstroms)\n",
    "\n",
    "    # CTF Parameters\n",
    "    # ... defocus\n",
    "    defocus_in_angstroms = jax.random.uniform(subkey, (), minval=1000, maxval=1500)\n",
    "    key, subkey = jax.random.split(key)\n",
    "\n",
    "    astigmatism_in_angstroms = jax.random.uniform(subkey, (), minval=0, maxval=100)\n",
    "    key, subkey = jax.random.split(key)\n",
    "\n",
    "    astigmatism_angle = jax.random.uniform(subkey, (), minval=0, maxval=jnp.pi)\n",
    "    key, subkey = jax.random.split(key)\n",
    "\n",
    "    phase_shift = jax.random.uniform(subkey, (), minval=0, maxval=0)\n",
    "    # no more random numbers needed\n",
    "\n",
    "    # now generate your non-random values\n",
    "    spherical_aberration_in_mm = 2.7\n",
    "    amplitude_contrast_ratio = 0.1\n",
    "    b_factor = 0.0\n",
    "    ctf_scale_factor = 1.0\n",
    "\n",
    "    # ... build the CTF\n",
    "    transfer_theory = cxs.ContrastTransferTheory(\n",
    "        ctf=cxs.ContrastTransferFunction(\n",
    "            defocus_in_angstroms=defocus_in_angstroms,\n",
    "            astigmatism_in_angstroms=astigmatism_in_angstroms,\n",
    "            astigmatism_angle=astigmatism_angle,\n",
    "            spherical_aberration_in_mm=spherical_aberration_in_mm,\n",
    "            amplitude_contrast_ratio=amplitude_contrast_ratio,\n",
    "            phase_shift=phase_shift,\n",
    "        ),\n",
    "        envelope=op.FourierGaussian(b_factor=b_factor, amplitude=ctf_scale_factor),\n",
    "    )\n",
    "\n",
    "    particle_parameters = ParticleParameters(\n",
    "        instrument_config=instrument_config,\n",
    "        pose=pose,\n",
    "        transfer_theory=transfer_theory,\n",
    "    )\n",
    "\n",
    "    return particle_parameters"
   ]
  },
  {
   "cell_type": "code",
   "execution_count": 6,
   "metadata": {},
   "outputs": [],
   "source": [
    "# Generate instrument config\n",
    "instrument_config = cxs.InstrumentConfig(\n",
    "    shape=(128, 128),\n",
    "    pixel_size=1.5,\n",
    "    voltage_in_kilovolts=300.0,\n",
    "    pad_scale=1.0,  # no padding\n",
    ")\n",
    "\n",
    "# Generate RNG keys\n",
    "number_of_images = 100\n",
    "keys = jax.random.split(jax.random.PRNGKey(0), number_of_images)\n",
    "\n",
    "# ... instantiate the RelionParticleParameterReader\n",
    "# particle_parameters_vmap, particle_parameters_novmap = make_particle_parameters(\n",
    "#     keys, instrument_config\n",
    "# )\n",
    "\n",
    "particle_parameters = make_particle_parameters(keys, instrument_config)"
   ]
  },
  {
   "cell_type": "markdown",
   "metadata": {},
   "source": [
    "To see the values of any particular parameter, you can do"
   ]
  },
  {
   "cell_type": "markdown",
   "metadata": {},
   "source": [
    "Lastly, we can easily generate the starfile from the built-in `cryojax.data.write_starfile_with_particle_parameters` function.\n",
    "\n",
    "The `mrc_batch_size` parameter let's you specify how many particles you want per mrcfile.\n",
    "\n",
    "In this case we will place 50 images per mrcfile, giving us two mrcfiles."
   ]
  },
  {
   "cell_type": "code",
   "execution_count": 7,
   "metadata": {},
   "outputs": [],
   "source": [
    "# ... generate the starfile\n",
    "# particle_parameters = eqx.combine(particle_parameters_vmap, particle_parameters_novmap)\n",
    "write_starfile_with_particle_parameters(\n",
    "    particle_parameters, \"./relion_dataset.star\", mrc_batch_size=50, overwrite=True\n",
    ")"
   ]
  },
  {
   "cell_type": "markdown",
   "metadata": {},
   "source": [
    "# Simulating particles based on a starfile and writing them to mrcs\n",
    "\n",
    "Now we will see how to define the functions required for our `write_simulated_image_stack_from_starfile` function to work.\n",
    "\n",
    "First, let's define our potential and let's load the starfile"
   ]
  },
  {
   "cell_type": "markdown",
   "metadata": {},
   "source": [
    "## Simulating noiseless images"
   ]
  },
  {
   "cell_type": "markdown",
   "metadata": {},
   "source": [
    "First, we will generate a stack without noise using one of `cryojax` imaging pipelines."
   ]
  },
  {
   "cell_type": "code",
   "execution_count": 8,
   "metadata": {},
   "outputs": [],
   "source": [
    "# First load the starfile\n",
    "\n",
    "path_to_mrc_files = \"./relion_dataset_particles/noiseless\"\n",
    "\n",
    "parameter_reader = RelionParticleParameterReader(\n",
    "    path_to_starfile=\"./relion_dataset.star\",  # starfile we created\n",
    "    path_to_relion_project=path_to_mrc_files,  # here is where the mrcs will be saved\n",
    "    get_envelope_function=True,\n",
    ")"
   ]
  },
  {
   "cell_type": "markdown",
   "metadata": {},
   "source": [
    "!!! info \"For more information on reading data in RELION, check our `Read a particle stack` tutorial.\""
   ]
  },
  {
   "cell_type": "markdown",
   "metadata": {},
   "source": [
    "Now let's define the structure we will use to generate images. In this case, we show how to load a pdb and then turn it into a voxel grid. We all need to define how we will integrate our potential."
   ]
  },
  {
   "cell_type": "code",
   "execution_count": 9,
   "metadata": {},
   "outputs": [],
   "source": [
    "filename = \"./data/groel_chainA.pdb\"\n",
    "atom_positions, atom_identities, b_factors = read_atoms_from_pdb(\n",
    "    filename, center=True, select=\"not element H\", get_b_factors=True\n",
    ")\n",
    "atomic_potential = cxs.PengAtomicPotential(atom_positions, atom_identities, b_factors)\n",
    "\n",
    "# get values from the \"optics\" datablock in the starfile\n",
    "box_size = parameter_reader[0].instrument_config.shape[0]\n",
    "voxel_size = parameter_reader[0].instrument_config.pixel_size\n",
    "\n",
    "real_voxel_grid = atomic_potential.as_real_voxel_grid(\n",
    "    shape=(box_size, box_size, box_size), voxel_size=voxel_size\n",
    ")\n",
    "potential = cxs.FourierVoxelGridPotential.from_real_voxel_grid(\n",
    "    real_voxel_grid, voxel_size, pad_scale=2\n",
    ")\n",
    "\n",
    "potential_integrator = cxs.FourierSliceExtraction(interpolation_order=1)"
   ]
  },
  {
   "cell_type": "markdown",
   "metadata": {},
   "source": [
    "Now we will build a function that generates an imaging pipeline from the parameter reader"
   ]
  },
  {
   "cell_type": "code",
   "execution_count": null,
   "metadata": {},
   "outputs": [
    {
     "ename": "NameError",
     "evalue": "name 'RelionParticleParameters' is not defined",
     "output_type": "error",
     "traceback": [
      "\u001b[0;31m---------------------------------------------------------------------------\u001b[0m",
      "\u001b[0;31mNameError\u001b[0m                                 Traceback (most recent call last)",
      "Cell \u001b[0;32mIn[10], line 5\u001b[0m\n\u001b[1;32m      1\u001b[0m \u001b[38;5;28;01mfrom\u001b[39;00m \u001b[38;5;21;01mtyping\u001b[39;00m \u001b[38;5;28;01mimport\u001b[39;00m Any\n\u001b[1;32m      4\u001b[0m \u001b[38;5;28;01mdef\u001b[39;00m \u001b[38;5;21mbuild_imaging_pipeline_from_particle_parameters\u001b[39m(\n\u001b[0;32m----> 5\u001b[0m     relion_particle_parameters: \u001b[43mRelionParticleParameters\u001b[49m,\n\u001b[1;32m      6\u001b[0m     args: Any,\n\u001b[1;32m      7\u001b[0m ) \u001b[38;5;241m-\u001b[39m\u001b[38;5;241m>\u001b[39m cxs\u001b[38;5;241m.\u001b[39mContrastImagingPipeline:\n\u001b[1;32m      8\u001b[0m     potential, potential_integrator \u001b[38;5;241m=\u001b[39m args\n\u001b[1;32m     10\u001b[0m     structural_ensemble \u001b[38;5;241m=\u001b[39m cxs\u001b[38;5;241m.\u001b[39mSingleStructureEnsemble(\n\u001b[1;32m     11\u001b[0m         potential, relion_particle_parameters\u001b[38;5;241m.\u001b[39mpose\n\u001b[1;32m     12\u001b[0m     )\n",
      "\u001b[0;31mNameError\u001b[0m: name 'RelionParticleParameters' is not defined"
     ]
    }
   ],
   "source": [
    "from typing import Any\n",
    "\n",
    "\n",
    "def build_imaging_pipeline_from_particle_parameters(\n",
    "    relion_particle_parameters: ParticleParameters,\n",
    "    args: Any,\n",
    ") -> cxs.ContrastImagingPipeline:\n",
    "    potential, potential_integrator = args\n",
    "\n",
    "    structural_ensemble = cxs.SingleStructureEnsemble(\n",
    "        potential, relion_particle_parameters.pose\n",
    "    )\n",
    "\n",
    "    scattering_theory = cxs.WeakPhaseScatteringTheory(\n",
    "        structural_ensemble,\n",
    "        potential_integrator,\n",
    "        relion_particle_parameters.transfer_theory,\n",
    "    )\n",
    "    imaging_pipeline = cxs.ContrastImagingPipeline(\n",
    "        relion_particle_parameters.instrument_config, scattering_theory\n",
    "    )\n",
    "    return imaging_pipeline"
   ]
  },
  {
   "cell_type": "markdown",
   "metadata": {},
   "source": [
    "and a function that simply computes images from relion particle parameters. They don't really need to be in separate functions."
   ]
  },
  {
   "cell_type": "code",
   "execution_count": null,
   "metadata": {},
   "outputs": [],
   "source": [
    "def compute_image(\n",
    "    particle_parameters: ParticleParameters,\n",
    "    args: Any,\n",
    "):\n",
    "    imaging_pipeline = build_imaging_pipeline_from_particle_parameters(\n",
    "        particle_parameters, args\n",
    "    )\n",
    "    return imaging_pipeline.render()"
   ]
  },
  {
   "cell_type": "code",
   "execution_count": null,
   "metadata": {},
   "outputs": [],
   "source": [
    "type(parameter_reader[0])"
   ]
  },
  {
   "cell_type": "code",
   "execution_count": null,
   "metadata": {},
   "outputs": [],
   "source": [
    "image = compute_image(parameter_reader[0], (potential, potential_integrator))\n",
    "plot_image(image, plt.figure(), plt.gca(), label=\"Simulated Image\");"
   ]
  },
  {
   "cell_type": "markdown",
   "metadata": {},
   "source": [
    "Finally, we can use this function to write a particle stack!"
   ]
  },
  {
   "cell_type": "code",
   "execution_count": null,
   "metadata": {},
   "outputs": [],
   "source": [
    "args = (potential, potential_integrator)  # the args compute_image takes\n",
    "\n",
    "write_simulated_image_stack_from_starfile(\n",
    "    metadata=parameter_reader,\n",
    "    compute_image=compute_image,\n",
    "    args=args,\n",
    "    is_jittable=True,\n",
    "    batch_size_per_mrc=10,\n",
    "    seed=None,\n",
    "    overwrite=True,\n",
    "    compression=None,\n",
    ")"
   ]
  },
  {
   "cell_type": "markdown",
   "metadata": {},
   "source": [
    "!!! info \"How does `write_simulated_image_stack_from_starfile` work?\"\n",
    "\n",
    "    The arguments to call this function are:\n",
    "\n",
    "    - `parameter_reader`: needs to be an instance of `RelionParticleParameterReader`\n",
    "    - `compute_image`: function that should take (ParticleParameters, args) or (jax.PRNGKey, ParticleParameters, args) as input\n",
    "    - `args`: the args for `compute_image` function\n",
    "    - `is_jittable`: whether or not your function can be jitted with `equinox.filter_jit`. (If you are not sure, run it and set it to False if it does not work)\n",
    "    - `batch_size_per_mrc`: if your function is jittable we will vmap the computation of the images, which might have a big memory usage. If you get some \"Ran out of memory\" error, then adjust this batch size. Setting it to \"None\" will assume no batching needs to be done. Setting it to 1 runs the code in serial mode.\n",
    "    - `seed`: a seed for generating noise (Optional)\n",
    "    - `overwrite`: whether or not you want existing files to be overwritten.\n",
    "    - `compression`: mrcfile compression, see the `mrcfile` library docs for more information.\n",
    "\n",
    "    If you add a seed, then `compute_image` should take a `jax.random.PRNGKey` as its first argument (next example), which is needed to generate a sample of the noise from whatever distribution you define.\n",
    "\n",
    "    Inside our code we will call your `compute_image` function to generate an image stack, and then save it as an mrcfile."
   ]
  },
  {
   "cell_type": "markdown",
   "metadata": {},
   "source": [
    "!!! info \"For more information on imaging pipelines check the `Simulate an image` tutorial.\""
   ]
  },
  {
   "cell_type": "markdown",
   "metadata": {},
   "source": [
    "## Simulating images with a noise distribution"
   ]
  },
  {
   "cell_type": "markdown",
   "metadata": {},
   "source": [
    "In this example we will use a cryojax distribution to add the noise, but in practice you can do it however you want.\n",
    "\n",
    "We need a different dataset, as we will save these images in a different folder"
   ]
  },
  {
   "cell_type": "code",
   "execution_count": null,
   "metadata": {},
   "outputs": [],
   "source": [
    "# First load the starfile\n",
    "\n",
    "path_to_mrc_files = \"./relion_dataset_particles/with_noise\"\n",
    "\n",
    "parameter_reader_for_noise_images = RelionParticleParameterReader(\n",
    "    path_to_starfile=\"./relion_dataset.star\",  # starfile we created\n",
    "    path_to_relion_project=path_to_mrc_files,  # here is where the mrcs will be saved\n",
    "    get_envelope_function=True,\n",
    ")"
   ]
  },
  {
   "cell_type": "markdown",
   "metadata": {},
   "source": [
    "the other parameters do not change, so there is no need to initialize them again."
   ]
  },
  {
   "cell_type": "markdown",
   "metadata": {},
   "source": [
    "We will follow a simular approach as before. First, let's write a function that generates a distribution from a `ParticleParameters`:"
   ]
  },
  {
   "cell_type": "code",
   "execution_count": null,
   "metadata": {},
   "outputs": [],
   "source": [
    "from cryojax.inference import distributions as dist\n",
    "\n",
    "\n",
    "def build_distribution_from_particle_parameters(\n",
    "    particle_parameters: ParticleParameters,\n",
    "    args: Any,\n",
    ") -> dist.IndependentGaussianFourierModes:\n",
    "    potential, potential_integrator = args\n",
    "\n",
    "    structural_ensemble = cxs.SingleStructureEnsemble(potential, particle_parameters.pose)\n",
    "\n",
    "    scattering_theory = cxs.WeakPhaseScatteringTheory(\n",
    "        structural_ensemble,\n",
    "        potential_integrator,\n",
    "        particle_parameters.transfer_theory,\n",
    "    )\n",
    "    imaging_pipeline = cxs.ContrastImagingPipeline(\n",
    "        particle_parameters.instrument_config, scattering_theory\n",
    "    )\n",
    "    distribution = dist.IndependentGaussianFourierModes(\n",
    "        imaging_pipeline,\n",
    "        signal_scale_factor=jnp.sqrt(instrument_config.n_pixels),\n",
    "        variance_function=op.Constant(1.0),\n",
    "    )\n",
    "    return distribution"
   ]
  },
  {
   "cell_type": "markdown",
   "metadata": {},
   "source": [
    "and a function that generates an image"
   ]
  },
  {
   "cell_type": "code",
   "execution_count": null,
   "metadata": {},
   "outputs": [],
   "source": [
    "def compute_image_with_noise(\n",
    "    key: PRNGKeyArray,\n",
    "    relion_particle_parameters: ParticleParameters,\n",
    "    args: Any,\n",
    "):\n",
    "    distribution = build_distribution_from_particle_parameters(\n",
    "        relion_particle_parameters, args\n",
    "    )\n",
    "    return distribution.sample(key)"
   ]
  },
  {
   "cell_type": "markdown",
   "metadata": {},
   "source": [
    "and generate an image from such distribution"
   ]
  },
  {
   "cell_type": "code",
   "execution_count": null,
   "metadata": {},
   "outputs": [],
   "source": [
    "key = jax.random.key(0)\n",
    "\n",
    "image_with_noise = compute_image_with_noise(\n",
    "    key, parameter_reader_for_noise_images[0], (potential, potential_integrator)\n",
    ")\n",
    "plot_image(image_with_noise, plt.figure(), plt.gca(), label=\"Simulated Image with noise\");"
   ]
  },
  {
   "cell_type": "markdown",
   "metadata": {},
   "source": [
    "Lastly, let's generate a stack with noise"
   ]
  },
  {
   "cell_type": "code",
   "execution_count": null,
   "metadata": {},
   "outputs": [],
   "source": [
    "args = (potential, potential_integrator)  # the args compute_image takes\n",
    "\n",
    "write_simulated_image_stack_from_starfile(\n",
    "    parameter_reader_for_noise_images,\n",
    "    compute_image_with_noise,\n",
    "    args,\n",
    "    seed=0,\n",
    "    overwrite=True,\n",
    ")"
   ]
  },
  {
   "cell_type": "markdown",
   "metadata": {},
   "source": [
    "Now we can load our images using `RelionParticleImageReader`s"
   ]
  },
  {
   "cell_type": "code",
   "execution_count": null,
   "metadata": {},
   "outputs": [],
   "source": [
    "particle_reader_noiseless = RelionParticleImageReader(parameter_reader)\n",
    "\n",
    "particle_reader_noisy = RelionParticleImageReader(parameter_reader_for_noise_images)"
   ]
  },
  {
   "cell_type": "code",
   "execution_count": null,
   "metadata": {},
   "outputs": [],
   "source": [
    "fig, ax = plt.subplots(1, 2, figsize=(10, 5))\n",
    "\n",
    "for a in ax:\n",
    "    a.set_axis_off()\n",
    "\n",
    "im1 = plot_image(\n",
    "    particle_reader_noiseless[0].images,\n",
    "    fig,\n",
    "    ax[0],\n",
    "    label=\"image without noise\",\n",
    ")\n",
    "\n",
    "im2 = plot_image(\n",
    "    particle_reader_noisy[0].images,\n",
    "    fig,\n",
    "    ax[1],\n",
    "    label=\"image with noise\",\n",
    ")"
   ]
  }
 ],
 "metadata": {
  "kernelspec": {
   "display_name": "cryojax-env",
   "language": "python",
   "name": "python3"
  },
  "language_info": {
   "codemirror_mode": {
    "name": "ipython",
    "version": 3
   },
   "file_extension": ".py",
   "mimetype": "text/x-python",
   "name": "python",
   "nbconvert_exporter": "python",
   "pygments_lexer": "ipython3",
   "version": "3.13.2"
  }
 },
 "nbformat": 4,
 "nbformat_minor": 2
}
