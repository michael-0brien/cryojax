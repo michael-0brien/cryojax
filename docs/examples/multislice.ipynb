{
 "cells": [
  {
   "cell_type": "markdown",
   "metadata": {},
   "source": [
    "# Fourier slice integration"
   ]
  },
  {
   "cell_type": "code",
   "execution_count": 9,
   "metadata": {},
   "outputs": [],
   "source": [
    "import jax.numpy as jnp\n",
    "\n",
    "import cryojax.simulator as cxs\n",
    "from cryojax.io import read_atoms_from_pdb\n",
    "\n",
    "\n",
    "atom_positions, atom_identities = read_atoms_from_pdb(\"./data/5w0s.pdb\")\n",
    "atom_potential = cxs.PengAtomicPotential(atom_positions, atom_identities)"
   ]
  },
  {
   "cell_type": "code",
   "execution_count": 3,
   "metadata": {},
   "outputs": [],
   "source": [
    "# Evaluate the potential on a voxel grid\n",
    "shape = (240, 240, 240)\n",
    "voxel_size = 1.0\n",
    "real_voxel_grid = atom_potential.as_real_voxel_grid(\n",
    "    shape,\n",
    "    voxel_size,\n",
    "    z_planes_in_parallel=10,\n",
    ")"
   ]
  },
  {
   "cell_type": "code",
   "execution_count": 4,
   "metadata": {},
   "outputs": [],
   "source": [
    "from cryojax.image import downsample_with_fourier_cropping\n",
    "\n",
    "\n",
    "downsampling_factor = 3\n",
    "downsampled_voxel_size = downsampling_factor * voxel_size\n",
    "downsampled_voxel_grid = downsample_with_fourier_cropping(\n",
    "    real_voxel_grid, downsampling_factor\n",
    ")\n",
    "potential = cxs.FourierVoxelGridPotential.from_real_voxel_grid(\n",
    "    downsampled_voxel_grid, downsampled_voxel_size\n",
    ")"
   ]
  },
  {
   "cell_type": "code",
   "execution_count": 5,
   "metadata": {},
   "outputs": [],
   "source": [
    "from cryojax.image import irfftn\n",
    "\n",
    "\n",
    "potential_integrator = cxs.FourierSliceExtraction(interpolation_order=1)\n",
    "instrument_config = cxs.InstrumentConfig(\n",
    "    shape=potential.shape[0:2],\n",
    "    pixel_size=potential.voxel_size,\n",
    "    voltage_in_kilovolts=300.0,\n",
    ")\n",
    "fourier_integrated_potential = potential_integrator.compute_fourier_integrated_potential(\n",
    "    potential, instrument_config\n",
    ")\n",
    "projection = irfftn(fourier_integrated_potential, s=instrument_config.shape)"
   ]
  },
  {
   "cell_type": "code",
   "execution_count": 6,
   "metadata": {},
   "outputs": [
    {
     "data": {
      "text/plain": [
       "<matplotlib.image.AxesImage at 0x154f75333580>"
      ]
     },
     "execution_count": 6,
     "metadata": {},
     "output_type": "execute_result"
    },
    {
     "data": {
      "image/png": "[encoded data removed]",
      "text/plain": [
       "<Figure size 640x480 with 1 Axes>"
      ]
     },
     "metadata": {},
     "output_type": "display_data"
    }
   ],
   "source": [
    "import matplotlib.pyplot as plt\n",
    "\n",
    "\n",
    "plt.imshow(projection, cmap=\"gray\")"
   ]
  },
  {
   "cell_type": "markdown",
   "metadata": {},
   "source": [
    "# Multislice integrator"
   ]
  },
  {
   "cell_type": "code",
   "execution_count": 91,
   "metadata": {},
   "outputs": [],
   "source": [
    "downsampling_factor = 15\n",
    "downsampled_voxel_size = downsampling_factor * voxel_size\n",
    "downsampled_voxel_grid = downsample_with_fourier_cropping(\n",
    "    real_voxel_grid, downsampling_factor\n",
    ")\n",
    "potential = cxs.RealVoxelGridPotential.from_real_voxel_grid(\n",
    "    downsampled_voxel_grid, downsampled_voxel_size\n",
    ")"
   ]
  },
  {
   "cell_type": "code",
   "execution_count": 98,
   "metadata": {},
   "outputs": [
    {
     "data": {
      "text/plain": [
       "(16, 16, 16)"
      ]
     },
     "execution_count": 98,
     "metadata": {},
     "output_type": "execute_result"
    }
   ],
   "source": [
    "potential.real_voxel_grid.shape"
   ]
  },
  {
   "cell_type": "code",
   "execution_count": 93,
   "metadata": {},
   "outputs": [],
   "source": [
    "instrument_config = cxs.InstrumentConfig(\n",
    "    shape=potential.shape[0:2],\n",
    "    pixel_size=potential.voxel_size,\n",
    "    voltage_in_kilovolts=300.0,\n",
    ")"
   ]
  },
  {
   "cell_type": "code",
   "execution_count": 94,
   "metadata": {},
   "outputs": [
    {
     "data": {
      "text/plain": [
       "['__abstractclassvars__',\n",
       " '__abstractmethods__',\n",
       " '__abstractvars__',\n",
       " '__annotations__',\n",
       " '__check_init__',\n",
       " '__class__',\n",
       " '__dataclass_fields__',\n",
       " '__dataclass_params__',\n",
       " '__delattr__',\n",
       " '__dict__',\n",
       " '__dir__',\n",
       " '__doc__',\n",
       " '__eq__',\n",
       " '__format__',\n",
       " '__ge__',\n",
       " '__getattribute__',\n",
       " '__gt__',\n",
       " '__hash__',\n",
       " '__init__',\n",
       " '__init_subclass__',\n",
       " '__le__',\n",
       " '__lt__',\n",
       " '__match_args__',\n",
       " '__module__',\n",
       " '__ne__',\n",
       " '__new__',\n",
       " '__reduce__',\n",
       " '__reduce_ex__',\n",
       " '__repr__',\n",
       " '__setattr__',\n",
       " '__sizeof__',\n",
       " '__str__',\n",
       " '__subclasshook__',\n",
       " '__weakref__',\n",
       " '_abc_impl',\n",
       " 'coordinate_grid_in_angstroms',\n",
       " 'coordinate_grid_in_pixels',\n",
       " 'crop_or_pad_to_padded_shape',\n",
       " 'crop_to_shape',\n",
       " 'electrons_per_angstrom_squared',\n",
       " 'frequency_grid_in_angstroms',\n",
       " 'frequency_grid_in_pixels',\n",
       " 'full_frequency_grid_in_angstroms',\n",
       " 'full_frequency_grid_in_pixels',\n",
       " 'n_pixels',\n",
       " 'pad_mode',\n",
       " 'pad_to_padded_shape',\n",
       " 'padded_coordinate_grid_in_angstroms',\n",
       " 'padded_coordinate_grid_in_pixels',\n",
       " 'padded_frequency_grid_in_angstroms',\n",
       " 'padded_frequency_grid_in_pixels',\n",
       " 'padded_full_frequency_grid_in_angstroms',\n",
       " 'padded_full_frequency_grid_in_pixels',\n",
       " 'padded_n_pixels',\n",
       " 'padded_shape',\n",
       " 'padded_x_dim',\n",
       " 'padded_y_dim',\n",
       " 'pixel_size',\n",
       " 'shape',\n",
       " 'voltage_in_kilovolts',\n",
       " 'wavelength_in_angstroms',\n",
       " 'wavenumber_in_inverse_angstroms',\n",
       " 'x_dim',\n",
       " 'y_dim']"
      ]
     },
     "execution_count": 94,
     "metadata": {},
     "output_type": "execute_result"
    }
   ],
   "source": [
    "dir(instrument_config)"
   ]
  },
  {
   "cell_type": "code",
   "execution_count": 95,
   "metadata": {},
   "outputs": [
    {
     "data": {
      "text/plain": [
       "<matplotlib.colorbar.Colorbar at 0x154f4bbf3ca0>"
      ]
     },
     "execution_count": 95,
     "metadata": {},
     "output_type": "execute_result"
    },
    {
     "data": {
      "image/png": "[encoded data removed]",
      "text/plain": [
       "<Figure size 640x480 with 2 Axes>"
      ]
     },
     "metadata": {},
     "output_type": "display_data"
    }
   ],
   "source": [
    "kx, ky = instrument_config.padded_full_frequency_grid_in_angstroms.T\n",
    "k2 = jnp.hypot(kx, ky) ** 2\n",
    "plt.imshow(k2, cmap=\"gray\")\n",
    "plt.colorbar()"
   ]
  },
  {
   "cell_type": "code",
   "execution_count": 99,
   "metadata": {},
   "outputs": [],
   "source": [
    "from typing_extensions import override\n",
    "\n",
    "from jaxtyping import Array, Complex\n",
    "\n",
    "from cryojax.simulator._instrument_config import InstrumentConfig\n",
    "from cryojax.simulator._multislice_integrator import AbstractMultisliceIntegrator\n",
    "\n",
    "\n",
    "class MultisliceIntegrator(\n",
    "    AbstractMultisliceIntegrator[cxs.RealVoxelGridPotential],\n",
    "    strict=True,\n",
    "):\n",
    "    @override\n",
    "    def compute_wavefunction_at_exit_plane(\n",
    "        self,\n",
    "        potential: cxs.RealVoxelGridPotential,\n",
    "        instrument_config: InstrumentConfig,\n",
    "    ) -> Complex[\n",
    "        Array, \"{instrument_config.padded_y_dim} {instrument_config.padded_x_dim}\"\n",
    "    ]:\n",
    "        delta_z = 1.0\n",
    "        real_slices = potential.real_voxel_grid\n",
    "        shape = potential.shape[1:]\n",
    "        # TODO: interpolate for different slice thicknesses\n",
    "        plane_wave_n = jnp.ones(shape, dtype=complex)\n",
    "        sigma = (\n",
    "            instrument_config.wavelength_in_angstroms / (4 * jnp.pi)\n",
    "        )  # see https://github.com/mjo22/cryojax/blob/multislice-updated/src/cryojax/simulator/_scattering_theory/common_functions.py\n",
    "        transmission = jnp.exp(1j * sigma * real_slices)\n",
    "        kx, ky = instrument_config.padded_full_frequency_grid_in_angstroms.T\n",
    "        k2 = jnp.hypot(kx, ky) ** 2  # TODO: shift to origin at centre\n",
    "        fresnel_propagator = jnp.exp(\n",
    "            -1j\n",
    "            * jnp.pi\n",
    "            * instrument_config.wavelength_in_angstroms\n",
    "            * k2\n",
    "            * delta_z\n",
    "            * potential.voxel_size\n",
    "        )\n",
    "        plane_wave_ns = jnp.zeros((len(real_slices), *shape), dtype=complex)\n",
    "        for n in range(len(transmission)):\n",
    "            tn = transmission[n]\n",
    "            t_psi_f = jnp.fft.fftn(tn * plane_wave_n)\n",
    "            # t_psi_f_shift = jnp.fft.fftshift(t_psi_f)\n",
    "            plane_wave_ns = plane_wave_ns.at[n].set(\n",
    "                jnp.fft.ifftn(\n",
    "                    t_psi_f * fresnel_propagator\n",
    "                )  # TODO: skip last one (move to top of loop)\n",
    "            )\n",
    "        exit_wave = plane_wave_ns[-1]  # TODO: return fourier space\n",
    "\n",
    "        return exit_wave"
   ]
  },
  {
   "cell_type": "markdown",
   "metadata": {},
   "source": [
    "```python\n",
    "class MultiSliceIntegrator(AbstractPotentialIntegrator, strict=True):\n",
    "    delta_z: int = field(static=True, default=1)  # pixels\n",
    "    sigma: int = field(static=True, default=1)  # TODO: get from config\n",
    "\n",
    "    def __call__(\n",
    "        self,\n",
    "        potential: RealVoxelGridPotential,\n",
    "        wavelength_in_angstroms: Float[Array, \"\"],\n",
    "        config: ImageConfig,\n",
    "    ) -> Complex[Array, \"{config.padded_y_dim} {config.padded_x_dim}\"]:\n",
    "        real_slices = potential.real_voxel_grid\n",
    "        shape = real_slices.shape[1:]\n",
    "        real_slices = real_slices.reshape(-1, self.delta_z, *shape).sum(1)\n",
    "\n",
    "        plane_wave_n = jnp.ones(shape, dtype=complex)\n",
    "\n",
    "        transmission = jnp.exp(1j * self.sigma * real_slices)\n",
    "        # delta_z = config.voxel_size\n",
    "        # voxel_size = 1\n",
    "        # config = cxs.ImageConfig(shape=shape, pixel_size=voxel_size)\n",
    "        kx, ky = (\n",
    "            config.wrapped_frequency_grid_in_angstroms.array.T\n",
    "        )  # TODO: not centered. see _coordinate_functions.make_frequencies\n",
    "        k2 = jnp.hypot(kx, ky) ** 2\n",
    "        # wavelength_in_angstroms = 0.001\n",
    "        fresnel_propagator = jnp.exp(\n",
    "            -1j\n",
    "            * jnp.pi\n",
    "            * wavelength_in_angstroms\n",
    "            * k2\n",
    "            * self.delta_z\n",
    "            * config.voxel_size\n",
    "        )\n",
    "\n",
    "        plane_wave_ns = jnp.zeros((len(real_slices), *shape), dtype=complex)\n",
    "        for n in range(len(transmission)):\n",
    "            tn = transmission[n]\n",
    "            t_psi_f = jnp.fft.fftn(tn * plane_wave_n)\n",
    "            # t_psi_f_shift = jnp.fft.fftshift(t_psi_f)\n",
    "            plane_wave_ns = plane_wave_ns.at[n].set(\n",
    "                jnp.fft.ifftn(\n",
    "                    t_psi_f * fresnel_propagator\n",
    "                )  # TODO: skip last one (move to top of loop)\n",
    "            )\n",
    "\n",
    "        exit_wave = plane_wave_ns[-1]  # TODO: return fourier space\n",
    "        return exit_wave\n",
    "```     "
   ]
  },
  {
   "cell_type": "code",
   "execution_count": 100,
   "metadata": {},
   "outputs": [
    {
     "data": {
      "text/plain": [
       "Array([[0.99999774-9.35106538e-04j, 0.9999994 -2.15333654e-04j,\n",
       "        1.0000026 +1.65725127e-03j, 0.99998105-3.94731900e-03j,\n",
       "        0.99966156+2.74755359e-02j, 0.9998278 -1.75638162e-02j,\n",
       "        0.9988757 -4.63003069e-02j, 0.99996334-8.32235254e-03j,\n",
       "        0.99986553+1.78905465e-02j, 0.9999709 -6.02703914e-03j,\n",
       "        0.99979913-1.86342057e-02j, 0.999998  +5.23932232e-03j,\n",
       "        0.9998727 -1.43019175e-02j, 1.0000039 +3.29476269e-03j,\n",
       "        0.9999886 -3.10587883e-03j, 1.0000023 +2.00258614e-03j],\n",
       "       [0.9999998 -8.88593495e-05j, 1.000002  +1.35240238e-03j,\n",
       "        0.9999891 -2.92576291e-03j, 0.9999997 +5.40809147e-03j,\n",
       "        0.9995026 -3.01326998e-02j, 0.9998192 +2.01319903e-02j,\n",
       "        0.9988872 +4.82663512e-02j, 0.99995095+1.03325928e-02j,\n",
       "        0.99976665-2.02092957e-02j, 0.9999897 +6.88987505e-03j,\n",
       "        0.9998488 +1.89000834e-02j, 0.9999766 -4.95678000e-03j,\n",
       "        0.99991983+1.45244030e-02j, 0.99998826-2.66489293e-03j,\n",
       "        1.0000023 +2.32958049e-03j, 0.99999696-1.09319482e-03j],\n",
       "       [1.0000018 +1.31118111e-03j, 0.99999046-2.74725119e-03j,\n",
       "        0.9999997 +4.51892149e-03j, 0.9999552 -7.27590639e-03j,\n",
       "        0.9994856 +3.35915312e-02j, 0.9996316 -2.60308031e-02j,\n",
       "        0.99862874-5.13485447e-02j, 0.9998569 -1.63494032e-02j,\n",
       "        0.99980074+2.15170402e-02j, 0.9999726 -4.69274772e-03j,\n",
       "        0.9998222 -1.74026862e-02j, 0.9999968 +5.44502586e-03j,\n",
       "        0.99985766-1.52211711e-02j, 1.000005  +2.00828165e-03j,\n",
       "        0.9999956 -1.46969594e-03j, 1.0000001 +4.07863408e-05j],\n",
       "       [0.9999898 -2.60560028e-03j, 1.0000008 +4.42937668e-03j,\n",
       "        0.99996233-6.63941633e-03j, 0.99997604+9.95633658e-03j,\n",
       "        0.9991862 -3.87798250e-02j, 0.9992441 +4.00659591e-02j,\n",
       "        0.9982746 +5.94825186e-02j, 0.99877685+4.95103821e-02j,\n",
       "        0.9997477 -2.08768230e-02j, 0.9997393 -2.50745788e-02j,\n",
       "        0.9999399 +1.33107612e-02j, 0.9999372 -9.62183345e-03j,\n",
       "        0.99987346+1.77278891e-02j, 0.9999918 -2.03011185e-03j,\n",
       "        1.0000005 +9.99230891e-04j, 1.0000027 +8.64809379e-04j],\n",
       "       [0.999869  +1.76480040e-02j, 0.9997493 -2.10309327e-02j,\n",
       "        0.99971974+2.51544304e-02j, 0.99946177-3.12851742e-02j,\n",
       "        0.99777   +6.81646913e-02j, 0.99189436-1.26623511e-01j,\n",
       "        0.9963727 -8.49208683e-02j, 0.99672395+8.17088112e-02j,\n",
       "        0.99991775+1.88729241e-02j, 0.9380406 -3.45923096e-01j,\n",
       "        1.0000526 -1.95432454e-04j, 0.9991226 +4.16419804e-02j,\n",
       "        0.99984974-1.55763961e-02j, 0.99996436-7.54516572e-03j,\n",
       "        0.9999559 +1.08464547e-02j, 0.9998763 -1.44118220e-02j],\n",
       "       [0.9999967 +4.26786393e-03j, 0.99996406-7.43505731e-03j,\n",
       "        0.99994296+1.17440037e-02j, 0.99980664-1.88245364e-02j,\n",
       "        0.99996555+7.45154731e-03j, 0.9849127 -1.72651947e-01j,\n",
       "        0.98038936-1.96945786e-01j, 0.9855508 -1.68949246e-01j,\n",
       "        0.9943066 -1.06509574e-01j, 0.9928786 -1.19364977e-01j,\n",
       "        0.9983006 -5.86845689e-02j, 0.99484193+1.02174848e-01j,\n",
       "        0.9999337 +1.50653105e-02j, 0.99998707+4.37083840e-03j,\n",
       "        1.0000029 -6.54846430e-04j, 0.99999446-1.66780502e-03j],\n",
       "       [0.9998744 -1.42508820e-02j, 0.99997365+9.20676813e-03j,\n",
       "        0.9999807 -4.86759841e-03j, 0.9999691 +5.00326604e-03j,\n",
       "        0.9893169 +1.46413401e-01j, 1.0000036 -1.09932469e-02j,\n",
       "        0.9945698 -1.04019254e-01j, 0.99490166-1.01685561e-01j,\n",
       "        0.9810936 -1.93309337e-01j, 0.99593604-9.11137015e-02j,\n",
       "        0.9722866 -2.33082935e-01j, 0.99697673-7.85969719e-02j,\n",
       "        0.9596284 -2.80626118e-01j, 0.99937636+3.78503762e-02j,\n",
       "        0.99955666-2.80794241e-02j, 0.99982905+2.02235654e-02j],\n",
       "       [1.0000088 -6.63086772e-04j, 0.99998873-1.44983828e-03j,\n",
       "        1.000005  +3.35690379e-03j, 0.9999763 -6.92553073e-03j,\n",
       "        0.9986663 -5.25654629e-02j, 0.97571504-2.18395323e-01j,\n",
       "        0.9932561 -1.16575889e-01j, 0.96418583-2.64742047e-01j,\n",
       "        0.99015105-1.40070900e-01j, 0.95143324-3.07291925e-01j,\n",
       "        0.99976224+3.06110531e-02j, 0.98126364-1.92246526e-01j,\n",
       "        0.9933907 -1.14946745e-01j, 0.999786  +2.06382871e-02j,\n",
       "        0.99997234-8.11899453e-03j, 0.9999862 +3.50984931e-03j],\n",
       "       [0.9999057 -1.22108608e-02j, 0.99998564+7.77001306e-03j,\n",
       "        0.99998885+4.10169363e-04j, 0.998608  -5.34792542e-02j,\n",
       "        0.9427859 -3.32796633e-01j, 1.0001584 -4.31345403e-03j,\n",
       "        0.9791935 -2.02607334e-01j, 0.9887926 -1.49305254e-01j,\n",
       "        0.9777303 +2.10967317e-01j, 0.99258035-1.21829942e-01j,\n",
       "        0.9559402 -2.93003976e-01j, 0.9903598 -1.38440058e-01j,\n",
       "        0.9973077 +7.40518719e-02j, 0.9971966 +7.53345713e-02j,\n",
       "        0.999602  -2.69261524e-02j, 0.9998755 +1.72983333e-02j],\n",
       "       [1.0000049 -9.14931297e-04j, 0.9999934 -9.22799110e-04j,\n",
       "        1.0000021 +3.37779894e-03j, 0.99995756-8.57811421e-03j,\n",
       "        0.99982476+2.22864486e-02j, 0.9907546 -1.35125563e-01j,\n",
       "        0.9880147 -1.54492304e-01j, 0.9755365 -2.19554663e-01j,\n",
       "        0.98141015-1.91590041e-01j, 0.96603304-2.58030176e-01j,\n",
       "        1.0000069 -1.77450962e-02j, 0.9953555 -9.63307172e-02j,\n",
       "        0.9989426 -4.66850810e-02j, 0.99991906+1.18828230e-02j,\n",
       "        0.9999926 -5.09996712e-03j, 0.9999911 +2.69258022e-03j],\n",
       "       [0.9999967 +2.29310244e-03j, 0.99995744-8.29128921e-03j,\n",
       "        0.9999165 +1.42952502e-02j, 0.99979967-1.75406337e-02j,\n",
       "        0.9881981 +1.53898656e-01j, 0.99245954-1.22379489e-01j,\n",
       "        0.9955785 -9.43776146e-02j, 0.9889612 -1.48196518e-01j,\n",
       "        0.9913047 -1.31991833e-01j, 0.9890852 -1.47339359e-01j,\n",
       "        0.97926265-2.02162296e-01j, 0.9758449 -2.18195885e-01j,\n",
       "        0.96652275-2.56055653e-01j, 0.99983466+2.13813260e-02j,\n",
       "        0.99990535-1.18935332e-02j, 1.0000017 +4.13140655e-03j],\n",
       "       [0.999955  +1.12779140e-02j, 0.99985814-1.54080847e-02j,\n",
       "        0.9998092 +2.09867880e-02j, 0.9995103 -3.00107300e-02j,\n",
       "        0.9994026 +3.57411504e-02j, 0.97155493-2.36352146e-01j,\n",
       "        0.98905027-1.47563070e-01j, 0.9951029 -9.86899436e-02j,\n",
       "        0.9797558 -1.99788600e-01j, 0.999439  -3.64573076e-02j,\n",
       "        0.9992847 -3.79562080e-02j, 0.99673784+8.18515494e-02j,\n",
       "        1.0000311 +5.12480550e-03j, 0.99999195+1.13540888e-03j,\n",
       "        1.0000021 +4.33152914e-03j, 0.9999546 -7.78553635e-03j],\n",
       "       [0.9998396 -1.65024549e-02j, 0.99990153+1.55747384e-02j,\n",
       "        0.99988145-1.40261315e-02j, 0.9999517 +1.10709779e-02j,\n",
       "        0.99993664+1.28909219e-02j, 0.99724853-7.42705613e-02j,\n",
       "        0.9971422 -7.48864114e-02j, 0.99161404+1.30153537e-01j,\n",
       "        0.99359745-1.13003120e-01j, 0.9522903 -3.04640651e-01j,\n",
       "        0.9996521 +2.81033777e-02j, 0.99845326+5.56822754e-02j,\n",
       "        0.9995627 -2.78277565e-02j, 0.99988806+1.66395940e-02j,\n",
       "        0.9998212 -1.75055824e-02j, 0.9998787 +1.71136521e-02j],\n",
       "       [1.000002  +3.96933500e-03j, 0.9999882 -2.88647413e-03j,\n",
       "        1.0000035 +1.48699444e-03j, 1.0000024 +6.71028625e-04j,\n",
       "        0.9997248 -2.21369173e-02j, 0.9996021 +2.90738977e-02j,\n",
       "        0.999047  +4.45446521e-02j, 0.9990159 +4.41315249e-02j,\n",
       "        1.0000063 -8.06396129e-04j, 0.9993304 -3.75963636e-02j,\n",
       "        1.0000123 +4.03251685e-03j, 0.99990386-1.23927798e-02j,\n",
       "        0.99990314+1.61704365e-02j, 0.99996805-5.63698262e-03j,\n",
       "        0.99999684+5.80981374e-03j, 0.99997604-4.92025912e-03j],\n",
       "       [0.9999891 -3.01025505e-03j, 1.0000021 +2.01103417e-03j,\n",
       "        0.9999986 -7.34046102e-04j, 0.9999934 -1.28465518e-03j,\n",
       "        0.9997669 +2.30400376e-02j, 0.9997938 -1.94041543e-02j,\n",
       "        0.99897885-4.41101678e-02j, 0.9999227 -1.22354468e-02j,\n",
       "        0.99997205+9.01545770e-03j, 0.9999906 +2.53694644e-03j,\n",
       "        0.999893  -1.29582044e-02j, 0.9999843 +7.68367387e-03j,\n",
       "        0.9998602 -1.49460994e-02j, 1.0000014 +4.69766045e-03j,\n",
       "        0.9999782 -4.79600206e-03j, 1.0000006 +3.91047914e-03j],\n",
       "       [1.0000021 +1.92245003e-03j, 0.99999803-8.60597007e-04j,\n",
       "        0.9999985 -4.81860712e-04j, 1.0000051 +2.61367322e-03j,\n",
       "        0.99964833-2.51651462e-02j, 0.99986947+1.71616636e-02j,\n",
       "        0.9990424 +4.48926911e-02j, 0.99996537+8.45108368e-03j,\n",
       "        0.999876  -1.44026121e-02j, 1.0000023 +3.60698951e-03j,\n",
       "        0.99988407+1.68534275e-02j, 0.9999697 -6.01202995e-03j,\n",
       "        0.9999223 +1.44146401e-02j, 0.9999815 -3.93654779e-03j,\n",
       "        1.0000007 +3.88586707e-03j, 0.9999897 -2.89719668e-03j]],      dtype=complex64)"
      ]
     },
     "execution_count": 100,
     "metadata": {},
     "output_type": "execute_result"
    }
   ],
   "source": [
    "multislice_integrator = MultisliceIntegrator()\n",
    "\n",
    "multislice_integrator.compute_wavefunction_at_exit_plane(potential, instrument_config)"
   ]
  },
  {
   "cell_type": "code",
   "execution_count": 101,
   "metadata": {},
   "outputs": [],
   "source": [
    "import cryojax.experimental as cxe\n",
    "\n",
    "\n",
    "pose = cxs.EulerAnglePose(\n",
    "    offset_x_in_angstroms=5.0,\n",
    "    offset_y_in_angstroms=-3.0,\n",
    "    view_phi=20.0,\n",
    "    view_theta=80.0,\n",
    "    view_psi=-5.0,\n",
    ")\n",
    "structural_ensemble = cxs.SingleStructureEnsemble(potential, pose)\n",
    "\n",
    "wtf = cxe.WaveTransferFunction(\n",
    "    defocus_in_angstroms=10000.0,\n",
    "    astigmatism_in_angstroms=-100.0,\n",
    "    astigmatism_angle=10.0,\n",
    "    amplitude_contrast_ratio=0.1,\n",
    ")\n",
    "transfer_theory = cxe.WaveTransferTheory(wtf)"
   ]
  },
  {
   "cell_type": "code",
   "execution_count": 102,
   "metadata": {},
   "outputs": [],
   "source": [
    "from cryojax.experimental import MultisliceScatteringTheory  # cxe\n",
    "\n",
    "\n",
    "scattering_theory = MultisliceScatteringTheory(\n",
    "    structural_ensemble, multislice_integrator, transfer_theory\n",
    ")"
   ]
  },
  {
   "cell_type": "code",
   "execution_count": 104,
   "metadata": {},
   "outputs": [],
   "source": [
    "imaging_pipeline = cxs.IntensityImagingPipeline(instrument_config, scattering_theory)\n",
    "\n",
    "image = imaging_pipeline.render()"
   ]
  },
  {
   "cell_type": "code",
   "execution_count": 105,
   "metadata": {},
   "outputs": [
    {
     "data": {
      "text/plain": [
       "<matplotlib.image.AxesImage at 0x154f4b62b880>"
      ]
     },
     "execution_count": 105,
     "metadata": {},
     "output_type": "execute_result"
    },
    {
     "data": {
      "image/png": "[encoded data removed]",
      "text/plain": [
       "<Figure size 640x480 with 1 Axes>"
      ]
     },
     "metadata": {},
     "output_type": "display_data"
    }
   ],
   "source": [
    "plt.imshow(image, cmap=\"gray\")"
   ]
  },
  {
   "cell_type": "code",
   "execution_count": null,
   "metadata": {},
   "outputs": [],
   "source": []
  }
 ],
 "metadata": {
  "kernelspec": {
   "display_name": "cryojax",
   "language": "python",
   "name": "python3"
  },
  "language_info": {
   "codemirror_mode": {
    "name": "ipython",
    "version": 3
   },
   "file_extension": ".py",
   "mimetype": "text/x-python",
   "name": "python",
   "nbconvert_exporter": "python",
   "pygments_lexer": "ipython3",
   "version": "3.10.13"
  }
 },
 "nbformat": 4,
 "nbformat_minor": 2
}
