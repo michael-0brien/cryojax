{
 "cells": [
  {
   "cell_type": "markdown",
   "metadata": {},
   "source": [
    "# Solvation Models\n",
    "- There are a two solvation models in cryojax related to Parkhurst et al. [1].\n",
    "- This notebook documents in what sense they are equivalent to each other.\n",
    "\n",
    "[1] Parkhurst, J. M., Cavalleri, A., Dumoux, M., Basham, M., Clare, D., Siebert, C. A., … Essex, J. W. (2024). \n",
    "Computational models of amorphous ice for accurate simulation of cryo-EM images of biological samples. Ultramicroscopy, 256(October 2023), 113882. \n",
    "http://doi.org/10.1016/j.ultramic.2023.113882 "
   ]
  },
  {
   "cell_type": "markdown",
   "metadata": {},
   "source": [
    "## Explicit water\n",
    "The water coordinates used in Parkhurst et al. are available in ref. [2]\n",
    "\n",
    "[2] Cavalleri, A., Parkhurst, J. M., Dumoux, M., Basham, M., Evans, G., Naismith, J. H., … Essex, J. (2023, April). Simulated water models with Apoferritin for use in cryo-EM image simulations with amorphous ice. Zenodo. http://doi.org/10.5281/zenodo.7862117"
   ]
  },
  {
   "cell_type": "code",
   "execution_count": null,
   "metadata": {},
   "outputs": [],
   "source": [
    "from cryojax.io import read_atoms_from_pdb_or_cif\n",
    "\n",
    "\n",
    "fname = \"../../data/water_243_coords.pdb\"\n",
    "atom_positions, atom_identities, b_factors = read_atoms_from_pdb_or_cif(\n",
    "    fname, center=True, get_b_factors=True\n",
    ")"
   ]
  },
  {
   "cell_type": "code",
   "execution_count": null,
   "metadata": {},
   "outputs": [],
   "source": [
    "import jax.numpy as jnp\n",
    "import numpy as np\n",
    "from jaxtyping import install_import_hook\n",
    "\n",
    "\n",
    "with install_import_hook(\"cryojax\", \"typeguard.typechecked\"):\n",
    "    from cryojax.image import irfftn\n",
    "    from cryojax.io import read_atoms_from_pdb_or_cif\n",
    "    from cryojax.simulator import (\n",
    "        GaussianMixtureProjection,\n",
    "        InstrumentConfig,\n",
    "        PengAtomicPotential,\n",
    "    )"
   ]
  },
  {
   "cell_type": "code",
   "execution_count": null,
   "metadata": {},
   "outputs": [],
   "source": [
    "shape = (200, 200)\n",
    "atom_potential = PengAtomicPotential(atom_positions, atom_identities, b_factors)\n",
    "pixel_size = 1\n",
    "potential_integrator = GaussianMixtureProjection(upsampling_factor=4)\n",
    "instrument_config = InstrumentConfig(\n",
    "    shape=shape,\n",
    "    pixel_size=pixel_size,\n",
    "    voltage_in_kilovolts=300.0,\n",
    ")\n",
    "fourier_integrated_potential = potential_integrator.compute_fourier_integrated_potential(\n",
    "    atom_potential, instrument_config\n",
    ")"
   ]
  },
  {
   "cell_type": "code",
   "execution_count": null,
   "metadata": {},
   "outputs": [],
   "source": [
    "image = irfftn(fourier_integrated_potential)\n",
    "image.mean()"
   ]
  },
  {
   "cell_type": "code",
   "execution_count": null,
   "metadata": {},
   "outputs": [],
   "source": [
    "import cryojax as cx\n",
    "from cryojax.image import compute_radially_averaged_powerspectrum, irfftn, rfftn\n",
    "\n",
    "\n",
    "def compute_power_spectrum(integrated_potential, shape, voxel_size):\n",
    "    integrated_potential_unbiased = integrated_potential - jnp.mean(integrated_potential)\n",
    "    freq_grid = cx.coordinates.make_frequency_grid(shape, voxel_size)\n",
    "    radial_freq_grid = jnp.linalg.norm(freq_grid, axis=-1)\n",
    "    fourier_image = rfftn(integrated_potential_unbiased)\n",
    "    n_pixels = fourier_image.shape[0]\n",
    "    spectrum, frequencies = compute_radially_averaged_powerspectrum(\n",
    "        fourier_image,\n",
    "        radial_freq_grid,\n",
    "        voxel_size,\n",
    "        maximum_frequency=1 / (2 * voxel_size),\n",
    "    )\n",
    "    return frequencies, spectrum / n_pixels\n",
    "\n",
    "\n",
    "frequencies, spectrum = compute_power_spectrum(image - image.mean(), shape, pixel_size)"
   ]
  },
  {
   "cell_type": "code",
   "execution_count": null,
   "metadata": {},
   "outputs": [],
   "source": [
    "import matplotlib.pyplot as plt\n",
    "\n",
    "\n",
    "fig, axes = plt.subplots(1, 3, figsize=(15, 5))\n",
    "im = axes[0].imshow(image, cmap=\"gray\")\n",
    "axes[0].set_title(\"Real-spaced image\")\n",
    "fig.colorbar(im)\n",
    "_ = axes[1].hist(image.flatten(), bins=100)\n",
    "axes[1].set_title(\"Real-spaced image histogram\")\n",
    "_ = axes[2].plot(\n",
    "    spectrum,\n",
    ")\n",
    "# axes[2].set_yscale('log')\n",
    "axes[2].set_title(\"Normalized image power spectrum\")"
   ]
  },
  {
   "cell_type": "markdown",
   "metadata": {},
   "source": [
    "# Parkhurst solvation models\n",
    "\n",
    "The solvaiton model in the original publication uses multislice. The solvent is added in outside the specimen slice by slice, via threshold based real spaced masking.\n",
    "\n",
    "Here we simply use an additive model and add the solvent 'on top' of the specimen's potential, effectively adding solvent 'inside' the specimen. However since there is only one 'slice', thresholding would unphysically remove solvent from above/below the specimen, which seems more non-physical, especially for thick ice.\n",
    "\n"
   ]
  },
  {
   "cell_type": "markdown",
   "metadata": {},
   "source": [
    "## UniformPhase\n",
    "\n",
    "The first solvation model uses a deterministic power envelop from Parkhurst et al, and uniform phases."
   ]
  },
  {
   "cell_type": "code",
   "execution_count": null,
   "metadata": {},
   "outputs": [],
   "source": [
    "import jax\n",
    "\n",
    "import cryojax.simulator as cxs\n",
    "\n",
    "\n",
    "solvent = cxs.UniformPhaseIce(power_envelope_function=cxs.Parkhurst2024_Gaussian())\n",
    "\n",
    "# Number of simulations\n",
    "num_simulations = 1000\n",
    "image_shape = shape\n",
    "voxel_size = 1\n",
    "\n",
    "# Run simulations\n",
    "\n",
    "randomseedkey = jax.random.PRNGKey(0)\n",
    "phaseshifts = solvent.sample_ice_spectrum(\n",
    "    key=randomseedkey, instrument_config=instrument_config\n",
    ")\n",
    "image = irfftn(phaseshifts, s=instrument_config.shape)\n",
    "x2, y2 = compute_power_spectrum(image, shape=image_shape, voxel_size=voxel_size)\n",
    "power_spectrum = y2\n",
    "\n",
    "\n",
    "# ENVELOPE\n",
    "def ParkhurstGaussian(q, a1, s1, a2, s2, m):\n",
    "    return a1 * jnp.exp(-(q**2) / (2 * s1**2)) + a2 * jnp.exp(\n",
    "        -((q - m) ** 2) / (2 * s2**2)\n",
    "    )\n",
    "\n",
    "\n",
    "a1 = 0.199\n",
    "s1 = 0.731\n",
    "a2 = 0.801\n",
    "s2 = 0.081\n",
    "m = 1 / 2.88\n",
    "P_q = ParkhurstGaussian(x2, a1, s1, a2, s2, m)\n",
    "\n",
    "# assert jnp.allclose(average_power_spectrum, P_q, atol=jnp.inf)"
   ]
  },
  {
   "cell_type": "code",
   "execution_count": null,
   "metadata": {},
   "outputs": [],
   "source": [
    "fig, ax = plt.subplots(figsize=(5, 5))\n",
    "\n",
    "ax.plot(\n",
    "    power_spectrum / power_spectrum.max(),\n",
    "    color=\"blue\",\n",
    "    label=\"Power Spectrum of UniformPhaseIce\",\n",
    ")\n",
    "ax.plot(P_q / P_q.max(), color=\"red\", label=\"Parkhurst Envelope\")\n",
    "fig.legend()"
   ]
  },
  {
   "cell_type": "markdown",
   "metadata": {},
   "source": [
    "## GaussianIce\n",
    "This solvaiton model is a coloured noise model, which uses the double gaussian from Eq (2) in Parkhurst et al. as the power envelope function. \n",
    "\n",
    "Internally, a standar complex normal is sampled, and then mulitiplied by the radially Parkhurst's radially symmetric function. A standard complex normal $\\mathcal{CN}[0,\\text{variance} = \\sigma^2]$ has random magnitude and phase [3, Appendix]. The phase is distributed uniformly, while the magnitude is distributed by the Raleigh distribution, with mean $\\sigma \\frac{\\pi}{2}$ [4]. Internally things are scaled so that the mean of the magnitude is 1, thereby recovering the power evnelope in expectation.\n",
    "\n",
    "\n",
    "- [3] https://en.wikipedia.org/wiki/Complex_normal_distribution\n",
    "- [4] https://en.wikipedia.org/wiki/Rayleigh_distribution"
   ]
  },
  {
   "cell_type": "code",
   "execution_count": null,
   "metadata": {},
   "outputs": [],
   "source": [
    "import jax\n",
    "\n",
    "import cryojax.simulator as cxs\n",
    "\n",
    "\n",
    "solvent = cxs.GaussianIce(variance_function=cxs.Parkhurst2024_Gaussian())\n",
    "\n",
    "# Number of simulations\n",
    "num_simulations = 10000\n",
    "image_shape = shape\n",
    "voxel_size = 1\n",
    "power_spectra = jnp.zeros((num_simulations, image_shape[0] // 2 + 1))\n",
    "\n",
    "# Run simulations\n",
    "for i in range(num_simulations):\n",
    "    randomseedkey = jax.random.split(jax.random.PRNGKey(0), num_simulations)[i]\n",
    "    phaseshifts = solvent.sample_ice_spectrum(\n",
    "        key=randomseedkey, instrument_config=instrument_config\n",
    "    )\n",
    "    image = irfftn(phaseshifts, s=instrument_config.shape)\n",
    "    x2, y2 = compute_power_spectrum(image, shape=image_shape, voxel_size=voxel_size)\n",
    "    power_spectra = power_spectra.at[i].set(y2)\n",
    "\n",
    "# Compute the average power spectrum\n",
    "average_power_spectrum = power_spectra.mean(axis=0)\n",
    "\n",
    "\n",
    "# ENVELOPE\n",
    "def ParkhurstGaussian(q, a1, s1, a2, s2, m):\n",
    "    return a1 * jnp.exp(-(q**2) / (2 * s1**2)) + a2 * jnp.exp(\n",
    "        -((q - m) ** 2) / (2 * s2**2)\n",
    "    )\n",
    "\n",
    "\n",
    "a1 = 0.199\n",
    "s1 = 0.731\n",
    "a2 = 0.801\n",
    "s2 = 0.081\n",
    "m = 1 / 2.88\n",
    "P_q = ParkhurstGaussian(x2, a1, s1, a2, s2, m)\n",
    "\n",
    "# assert jnp.allclose(average_power_spectrum, P_q, atol=jnp.inf)"
   ]
  },
  {
   "cell_type": "code",
   "execution_count": null,
   "metadata": {},
   "outputs": [],
   "source": [
    "n_averages = [3, 10, 30, 300]\n",
    "\n",
    "fig, axes = plt.subplots(len(n_averages), figsize=(10, 3 * len(n_averages)))\n",
    "for idx, n_average in enumerate(n_averages):\n",
    "    average_power_spectrum = power_spectra[:n_average].mean(0)\n",
    "    axes[idx].plot(\n",
    "        average_power_spectrum / average_power_spectrum.max(),\n",
    "        label=\"Average Power Spectrum, n={}\".format(n_averages[idx]),\n",
    "        color=\"blue\",\n",
    "    )\n",
    "    axes[idx].plot(P_q / P_q.max(), label=\"Parkhurst Envelope\", color=\"black\")\n",
    "    axes[idx].legend(loc=\"upper right\")  # Adjust the location as needed\n",
    "\n",
    "plt.show()"
   ]
  },
  {
   "cell_type": "markdown",
   "metadata": {},
   "source": [
    "## Appendix: complex normal distribution\n"
   ]
  },
  {
   "cell_type": "code",
   "execution_count": null,
   "metadata": {},
   "outputs": [],
   "source": [
    "import jax.numpy as jnp\n",
    "import jax.random as jr\n",
    "import pandas as pd\n",
    "\n",
    "\n",
    "n = 1000000\n",
    "key = jr.key(0)\n",
    "normal_rv = jr.normal(key, shape=(n,), dtype=complex)\n",
    "\n",
    "fig, axes = plt.subplots(1, 2, figsize=(10, 5))\n",
    "\n",
    "theta_rv = jnp.angle(normal_rv)\n",
    "pd.Series(theta_rv).plot.hist(\n",
    "    ax=axes[0], alpha=0.5, label=\"theta from complex normal\", legend=True\n",
    ")\n",
    "\n",
    "uniform_rv = -jnp.pi + 2 * jnp.pi * jr.uniform(key, shape=(n,))\n",
    "pd.Series(uniform_rv).plot.hist(ax=axes[1], alpha=0.5, label=\"uniform theta\", legend=True)\n",
    "\n",
    "assert np.isclose(theta_rv.mean(), uniform_rv.mean(), atol=1e-2)"
   ]
  },
  {
   "cell_type": "markdown",
   "metadata": {},
   "source": [
    "The magnitude of the complex random variable is it's own random variable. "
   ]
  },
  {
   "cell_type": "code",
   "execution_count": null,
   "metadata": {},
   "outputs": [],
   "source": [
    "magnitude_rv = jnp.abs(normal_rv)\n",
    "pd.Series(magnitude_rv).plot.hist(\n",
    "    bins=100, label=\"magnitude of complex normal\", legend=True\n",
    ")"
   ]
  },
  {
   "cell_type": "code",
   "execution_count": null,
   "metadata": {},
   "outputs": [],
   "source": [
    "magnitude_rv.mean()"
   ]
  },
  {
   "cell_type": "code",
   "execution_count": null,
   "metadata": {},
   "outputs": [],
   "source": [
    "analytic_mean = jnp.sqrt(jnp.pi / 2) / 2 ** (1 / 2)\n",
    "analytic_mean"
   ]
  },
  {
   "cell_type": "code",
   "execution_count": null,
   "metadata": {},
   "outputs": [],
   "source": [
    "analytic_mean * 2 / jnp.sqrt(jnp.pi)"
   ]
  },
  {
   "cell_type": "code",
   "execution_count": null,
   "metadata": {},
   "outputs": [],
   "source": [
    "key1 = jr.key(1)\n",
    "key2 = jr.key(2)\n",
    "var_scale = 2 / jnp.pi\n",
    "std_scale = jnp.sqrt(var_scale)\n",
    "comlex_normals = std_scale * jr.normal(key2, shape=(n,)) + std_scale * 1j * jr.normal(\n",
    "    key1, shape=(n,)\n",
    ")\n",
    "\n",
    "np.isclose(1, jnp.abs(comlex_normals).mean(), atol=1e-3)"
   ]
  },
  {
   "cell_type": "code",
   "execution_count": null,
   "metadata": {},
   "outputs": [],
   "source": [
    "var_scale = 4 / jnp.pi\n",
    "std_scale = jnp.sqrt(var_scale)\n",
    "comlex_normals = std_scale * jr.normal(key, shape=(n,), dtype=complex)\n",
    "\n",
    "\n",
    "np.isclose(1, jnp.abs(comlex_normals).mean(), atol=1e-3)"
   ]
  }
 ],
 "metadata": {
  "kernelspec": {
   "display_name": "cryojax",
   "language": "python",
   "name": "python3"
  },
  "language_info": {
   "codemirror_mode": {
    "name": "ipython",
    "version": 3
   },
   "file_extension": ".py",
   "mimetype": "text/x-python",
   "name": "python",
   "nbconvert_exporter": "python",
   "pygments_lexer": "ipython3",
   "version": "3.10.13"
  }
 },
 "nbformat": 4,
 "nbformat_minor": 2
}
