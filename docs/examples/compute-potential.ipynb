{
 "cells": [
  {
   "cell_type": "markdown",
   "metadata": {},
   "source": [
    "This tutorial demonstrates how to use `cryojax` to build a scattering potential from a PDB entry. Specifically, the tutorial will build a voxel grid, take some steps to validate it, then save the result to be used in subsequent tutorials.\n",
    "\n",
    "The scattering potential will be built using the tabulation of atomic scattering factors from the work of Lian-Mao Peng, which fits the potential from single atoms to a sum of five gaussians. See the `cryojax` documentation [here](https://mjo22.github.io/cryojax/api/simulator/scattering_potential/#atom-based-scattering-potentials) for more information.\n",
    "\n",
    "*References:*\n",
    "\n",
    "- Peng, L-M., et al. \"Robust parameterization of elastic and absorptive electron atomic scattering factors.\" Acta Crystallographica Section A: Foundations of Crystallography 52.2 (1996): 257-276.\n",
    "- Himes, Benjamin, and Nikolaus Grigorieff. \"Cryo-TEM simulations of amorphous radiation-sensitive samples using multislice wave propagation.\" IUCrJ 8.6 (2021): 943-953."
   ]
  },
  {
   "cell_type": "code",
   "execution_count": 1,
   "metadata": {},
   "outputs": [],
   "source": [
    "# Plotting imports and function definitions\n",
    "from matplotlib import pyplot as plt\n",
    "from mpl_toolkits.axes_grid1 import make_axes_locatable\n",
    "\n",
    "\n",
    "def plot_image(image, fig, ax, cmap=\"gray\", label=None, **kwargs):\n",
    "    im = ax.imshow(image, cmap=cmap, origin=\"lower\", **kwargs)\n",
    "    divider = make_axes_locatable(ax)\n",
    "    cax = divider.append_axes(\"right\", size=\"5%\", pad=0.05)\n",
    "    fig.colorbar(im, cax=cax)\n",
    "    if label is not None:\n",
    "        ax.set(title=label)\n",
    "    return fig, ax"
   ]
  },
  {
   "cell_type": "markdown",
   "metadata": {},
   "source": [
    "First, load the atomic positions and identities from a PDB entry. Here, a structure of GroEL (PDB ID 5w0s) is used. This is loaded into a `PengAtomicPotential` object."
   ]
  },
  {
   "cell_type": "code",
   "execution_count": 2,
   "metadata": {},
   "outputs": [
    {
     "name": "stdout",
     "output_type": "stream",
     "text": [
      "PengAtomicPotential(\n",
      "  atom_positions=f32[65574,3],\n",
      "  scattering_factor_a=f32[65574,5],\n",
      "  scattering_factor_b=f32[65574,5],\n",
      "  b_factors=None\n",
      ")\n"
     ]
    }
   ],
   "source": [
    "import cryojax.simulator as cxs\n",
    "from cryojax.io import read_atoms_from_pdb\n",
    "\n",
    "\n",
    "atom_positions, atom_identities = read_atoms_from_pdb(\n",
    "    \"./data/5w0s.pdb\",\n",
    "    center=True,\n",
    "    atom_filter=\"not element H\",\n",
    "    is_assembly=True,\n",
    "    i_model=None,\n",
    ")\n",
    "atom_potential = cxs.PengAtomicPotential(atom_positions, atom_identities)\n",
    "print(atom_potential)"
   ]
  },
  {
   "cell_type": "markdown",
   "metadata": {},
   "source": [
    "We see above that the `PengAtomicPotential` consists of three fields: the `atom_positions`, `scattering_factor_a`, and `scattering_factor_b`.\n",
    "\n",
    "- The `atom_positions` are the positions of the atoms in angstroms.\n",
    "- The `scattering_factor_a`, and `scattering_factor_b` are the parameters $a_i$ and $b_i$ from Peng et al. (1996). \n",
    "\n",
    "Optionally, we can also load PDB B-factors into the `b_factors` field after making the function call `cryojax.io.read_atoms_from_pdb(..., get_b_factors=True)`."
   ]
  },
  {
   "cell_type": "markdown",
   "metadata": {},
   "source": [
    "Next, we can build the voxel grid representation of the potential."
   ]
  },
  {
   "cell_type": "code",
   "execution_count": 3,
   "metadata": {},
   "outputs": [],
   "source": [
    "# Evaluate the potential on a voxel grid\n",
    "shape = (120, 120, 120)\n",
    "voxel_size = 2.0\n",
    "real_voxel_grid = atom_potential.as_real_voxel_grid(\n",
    "    shape,\n",
    "    voxel_size,\n",
    "    batch_size_for_z_planes=10,\n",
    ")"
   ]
  },
  {
   "cell_type": "markdown",
   "metadata": {},
   "source": [
    "Now, downsample the voxel array to the desired voxel size. Because the potentials from individual atoms are short-ranged, finite sampling effects can be significant and it is best to first generate a potential at a smaller-than-desired voxel size. "
   ]
  },
  {
   "cell_type": "code",
   "execution_count": 4,
   "metadata": {},
   "outputs": [],
   "source": [
    "from cryojax.image import downsample_with_fourier_cropping\n",
    "\n",
    "\n",
    "downsampling_factor = 2\n",
    "downsampled_voxel_size = downsampling_factor * voxel_size\n",
    "downsampled_voxel_grid = downsample_with_fourier_cropping(\n",
    "    real_voxel_grid, downsampling_factor\n",
    ")"
   ]
  },
  {
   "cell_type": "markdown",
   "metadata": {},
   "source": [
    "!!! info\n",
    "    In, `cryojax`, potentials are built in units of *inverse length squared*,\n",
    "    $[L]^{-2}$. This rescaled potential is defined to be\n",
    "\n",
    "    $$U(x, y, z) = \\frac{2 m e}{\\hbar^2} V(x, y, z),$$\n",
    "\n",
    "    where $V$ is the electrostatic potential energy, $(x, y, z)$ are positional\n",
    "    coordinates, $m$ is the electron mass, and $e$ is the electron charge.\n",
    "\n",
    "    In the following, we will compute projections of the potential, which we will\n",
    "    define to be\n",
    "\n",
    "    $$U_z(x, y) = \\int_{-\\infty}^z dz' \\ U(x, y, z'),$$\n",
    "\n",
    "    where in practice the integration domain is taken to be between $z'$-planes above and below where the potential has sufficiently decayed. In this tutorial, this integral is computed with fourier slice extraction.\n",
    "\n",
    "Now, let's validate that what we see is reasonable. The first validation step is to compute a few different projections of the potential."
   ]
  },
  {
   "cell_type": "code",
   "execution_count": 5,
   "metadata": {},
   "outputs": [
    {
     "data": {
      "text/plain": [
       "(<Figure size 300x300 with 2 Axes>,\n",
       " <Axes: title={'center': 'Integrated potential, $U_z(x, y)$'}>)"
      ]
     },
     "execution_count": 5,
     "metadata": {},
     "output_type": "execute_result"
    },
    {
     "data": {
      "image/png": "[encoded data removed]",
      "text/plain": [
       "<Figure size 300x300 with 2 Axes>"
      ]
     },
     "metadata": {},
     "output_type": "display_data"
    }
   ],
   "source": [
    "import jax\n",
    "\n",
    "from cryojax.image import irfftn\n",
    "\n",
    "\n",
    "@jax.jit\n",
    "def compute_projection(potential):\n",
    "    \"\"\"Compute a projection of a voxel-based potential.\"\"\"\n",
    "    # ... initialize the integration method for the potential\n",
    "    potential_integrator = cxs.FourierSliceExtraction(interpolation_order=1)\n",
    "    # ... and the configuration of the imaging instrument\n",
    "    instrument_config = cxs.InstrumentConfig(\n",
    "        shape=potential.shape[0:2],\n",
    "        pixel_size=potential.voxel_size,\n",
    "        voltage_in_kilovolts=300.0,\n",
    "    )\n",
    "    # ... compute the integrated potential\n",
    "    fourier_integrated_potential = (\n",
    "        potential_integrator.compute_fourier_integrated_potential(\n",
    "            potential, instrument_config\n",
    "        )\n",
    "    )\n",
    "    return irfftn(fourier_integrated_potential, s=instrument_config.shape)\n",
    "\n",
    "\n",
    "# Load the voxel grid into a voxel-based potential representation\n",
    "voxel_potential = cxs.FourierVoxelGridPotential.from_real_voxel_grid(\n",
    "    downsampled_voxel_grid, downsampled_voxel_size\n",
    ")\n",
    "# Now, compute the projection integral\n",
    "integrated_potential = compute_projection(voxel_potential)\n",
    "# ... and plot\n",
    "fig, ax = plt.subplots(figsize=(3, 3))\n",
    "plot_image(integrated_potential, fig, ax, label=\"Integrated potential, $U_z(x, y)$\")"
   ]
  },
  {
   "cell_type": "markdown",
   "metadata": {},
   "source": [
    "We can also inspect a different viewing angle by rotating the `voxel_potential` to a different pose. This involves instantiating a `cryojax` representation of a pose, which here is the `cryojax.simulator.EulerAnglePose`. The three euler angles in this object are:\n",
    "\n",
    "- The first euler angle $\\phi$, denoted `view_phi`\n",
    "- The second euler angle $\\theta$, denoted `view_theta`\n",
    "- The third euler angle $\\psi$, denoted `view_psi`\n",
    "\n",
    "The euler angle convention in `cryojax` is a zyz extrinsic rotation, which follows other standard cryo-EM software, such as RELION and cisTEM."
   ]
  },
  {
   "cell_type": "code",
   "execution_count": 6,
   "metadata": {},
   "outputs": [
    {
     "data": {
      "text/plain": [
       "(<Figure size 300x300 with 2 Axes>,\n",
       " <Axes: title={'center': 'Integrated potential, $U_z(x, y)$'}>)"
      ]
     },
     "execution_count": 6,
     "metadata": {},
     "output_type": "execute_result"
    },
    {
     "data": {
      "image/png": "[encoded data removed]",
      "text/plain": [
       "<Figure size 300x300 with 2 Axes>"
      ]
     },
     "metadata": {},
     "output_type": "display_data"
    }
   ],
   "source": [
    "# Instantiate the pose and rotate the potential\n",
    "# ... angles are in degrees\n",
    "pose = cxs.EulerAnglePose(view_phi=0.0, view_theta=90.0, view_psi=90.0)\n",
    "rotated_voxel_potential = voxel_potential.rotate_to_pose(pose)\n",
    "# ... again compute the projection integral\n",
    "integrated_potential = compute_projection(rotated_voxel_potential)\n",
    "# ... and again, plot\n",
    "fig, ax = plt.subplots(figsize=(3, 3))\n",
    "plot_image(integrated_potential, fig, ax, label=\"Integrated potential, $U_z(x, y)$\")"
   ]
  },
  {
   "cell_type": "markdown",
   "metadata": {},
   "source": [
    "Another good sanity check is to check that the potential is relatively weak compared to a typical incident electron beam energy in cryo-EM. For an electron beam with incident wavenumber $k$, this can be checked with the condition\n",
    "\n",
    "$$U/k^2 << 1,$$\n",
    "\n",
    "where again $U = 2 m e V / \\hbar^2$ is the rescaled potential. Below, we consider an incident energy of $300 \\ \\textrm{keV}$."
   ]
  },
  {
   "cell_type": "code",
   "execution_count": 7,
   "metadata": {},
   "outputs": [
    {
     "name": "stdout",
     "output_type": "stream",
     "text": [
      "0.0010852793\n"
     ]
    }
   ],
   "source": [
    "import numpy as np\n",
    "\n",
    "from cryojax.constants import convert_keV_to_angstroms\n",
    "\n",
    "\n",
    "# First compute the wavenumber\n",
    "voltage_in_kilovolts = 300.0\n",
    "wavelength_in_angstroms = convert_keV_to_angstroms(voltage_in_kilovolts)\n",
    "wavenumber = 2 * np.pi / wavelength_in_angstroms\n",
    "# ... now get the maximum value of the potential\n",
    "potential_maximum = downsampled_voxel_grid.max()\n",
    "# ... and compare\n",
    "print(potential_maximum / wavenumber**2)"
   ]
  },
  {
   "cell_type": "markdown",
   "metadata": {},
   "source": [
    "Looks reasonable! Finally, we can write the voxel grid to disk for later processing."
   ]
  },
  {
   "cell_type": "code",
   "execution_count": 8,
   "metadata": {},
   "outputs": [],
   "source": [
    "from cryojax.io import write_volume_to_mrc\n",
    "\n",
    "\n",
    "write_volume_to_mrc(\n",
    "    downsampled_voxel_grid,\n",
    "    downsampled_voxel_size,\n",
    "    \"./data/groel_5w0s_scattering_potential.mrc\",\n",
    "    overwrite=True,\n",
    ")"
   ]
  }
 ],
 "metadata": {
  "kernelspec": {
   "display_name": "cryojax",
   "language": "python",
   "name": "python3"
  },
  "language_info": {
   "codemirror_mode": {
    "name": "ipython",
    "version": 3
   },
   "file_extension": ".py",
   "mimetype": "text/x-python",
   "name": "python",
   "nbconvert_exporter": "python",
   "pygments_lexer": "ipython3",
   "version": "3.10.13"
  }
 },
 "nbformat": 4,
 "nbformat_minor": 2
}
