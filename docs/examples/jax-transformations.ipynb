{
 "cells": [
  {
   "cell_type": "markdown",
   "id": "012bd365",
   "metadata": {},
   "source": [
    "This tutorial demonstrates how to get started with JAX transformations in cryoJAX."
   ]
  }
 ],
 "metadata": {
  "kernelspec": {
   "display_name": "cryojax",
   "language": "python",
   "name": "python3"
  },
  "language_info": {
   "name": "python",
   "version": "3.10.13"
  }
 },
 "nbformat": 4,
 "nbformat_minor": 5
}
