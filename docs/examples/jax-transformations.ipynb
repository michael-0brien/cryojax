{
 "cells": [
  {
   "cell_type": "markdown",
   "id": "012bd365",
   "metadata": {},
   "source": [
    "This tutorial demonstrates how to get started with JAX transformations in cryoJAX."
   ]
  },
  {
   "cell_type": "code",
   "execution_count": null,
   "id": "dd4dbf7c",
   "metadata": {},
   "outputs": [],
   "source": [
    "# Start by creating an image model\n",
    "import cryojax.simulator as cxs\n",
    "from cryojax.io import read_array_from_mrc\n",
    "\n",
    "\n",
    "# Scattering potential stored in MRC format\n",
    "filename = \"./data/groel_5w0s_scattering_potential.mrc\"\n",
    "# ... read into a FourierVoxelGridPotential\n",
    "real_voxel_grid, voxel_size = read_array_from_mrc(filename, loads_spacing=True)\n",
    "potential = cxs.FourierVoxelGridPotential.from_real_voxel_grid(\n",
    "    real_voxel_grid, voxel_size, pad_scale=2\n",
    ")\n",
    "# Now, instantiate the pose. Angles are given in degrees\n",
    "pose = cxs.EulerAnglePose(\n",
    "    offset_x_in_angstroms=5.0,\n",
    "    offset_y_in_angstroms=-3.0,\n",
    "    phi_angle=20.0,\n",
    "    theta_angle=80.0,\n",
    "    psi_angle=-5.0,\n",
    ")\n",
    "# First, the contrast transfer theory\n",
    "ctf = cxs.CTF(\n",
    "    defocus_in_angstroms=10000.0,\n",
    "    astigmatism_in_angstroms=-100.0,\n",
    "    astigmatism_angle=10.0,\n",
    ")\n",
    "transfer_theory = cxs.ContrastTransferTheory(ctf, amplitude_contrast_ratio=0.1)\n",
    "# Then the configuration. Add padding with respect to the final image shape.\n",
    "pad_options = dict(shape=potential.shape[0:2])\n",
    "config = cxs.BasicConfig(\n",
    "    shape=(80, 80),\n",
    "    pixel_size=potential.voxel_size,\n",
    "    voltage_in_kilovolts=300.0,\n",
    "    pad_options=pad_options,\n",
    ")\n",
    "# Make the image model as well as a simulation function. By default, cryoJAX will simulate\n",
    "# the contrast in physical units. Rather, normalize the image.\n",
    "image_model, simulate_fn = cxs.make_image_model(\n",
    "    potential,\n",
    "    config,\n",
    "    pose,\n",
    "    transfer_theory,\n",
    "    normalizes_signal=True,\n",
    ")"
   ]
  },
  {
   "cell_type": "markdown",
   "id": "a6e3cc09",
   "metadata": {},
   "source": [
    "In the [Simulate an image](https://mjo22.github.io/cryojax/examples/simulate-image/) tutorial we showed how to simulate an image with the syntax\n",
    "\n",
    "```python\n",
    "image_model, simulate_fn = cxs.make_image_model(...)\n",
    "image = simulate_fn(image_model)\n",
    "```\n",
    "\n",
    "In this tutorial, we will show how to perform [transformations](https://docs.jax.dev/en/latest/key-concepts.html#transformations) of `simulate_fn` using `jax.jit`, `jax.grad`, and `jax.vmap`. To do this, we will leverage [filtered transformations](https://docs.kidger.site/equinox/all-of-equinox/#2-filtering) in `equinox`."
   ]
  }
 ],
 "metadata": {
  "kernelspec": {
   "display_name": "cryojax",
   "language": "python",
   "name": "python3"
  },
  "language_info": {
   "name": "python",
   "version": "3.10.13"
  }
 },
 "nbformat": 4,
 "nbformat_minor": 5
}
