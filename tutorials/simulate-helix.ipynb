{
 "cells": [
  {
   "cell_type": "markdown",
   "metadata": {},
   "source": [
    "## Let's demonstrate the imaging pipeline for a helical specimen."
   ]
  },
  {
   "cell_type": "code",
   "execution_count": null,
   "metadata": {},
   "outputs": [],
   "source": [
    "# Jax imports\n",
    "import equinox as eqx\n",
    "import jax\n",
    "import jax.numpy as jnp\n",
    "import numpy as np\n",
    "from jax import config\n",
    "\n",
    "config.update(\"jax_enable_x64\", False)"
   ]
  },
  {
   "cell_type": "code",
   "execution_count": null,
   "metadata": {},
   "outputs": [],
   "source": [
    "# Plotting imports and function definitions\n",
    "from matplotlib import pyplot as plt\n",
    "from mpl_toolkits.axes_grid1 import make_axes_locatable"
   ]
  },
  {
   "cell_type": "code",
   "execution_count": null,
   "metadata": {},
   "outputs": [],
   "source": [
    "# Image simulator imports\n",
    "import cryojax.simulator as cs\n",
    "from cryojax.utils import fftn, irfftn"
   ]
  },
  {
   "cell_type": "code",
   "execution_count": null,
   "metadata": {},
   "outputs": [],
   "source": [
    "def plot_image(image, fig, ax, cmap=\"gray\", **kwargs):\n",
    "    im = ax.imshow(image, cmap=cmap, origin=\"lower\", **kwargs)\n",
    "    divider = make_axes_locatable(ax)\n",
    "    cax = divider.append_axes(\"right\", size=\"5%\", pad=0.05)\n",
    "    fig.colorbar(im, cax=cax)\n",
    "    return fig, ax\n",
    "\n",
    "def plot_images(images, **kwargs):\n",
    "    nimages = len(images)\n",
    "    fig, axes = plt.subplots(ncols=nimages, figsize=(4*nimages, 6))\n",
    "    if nimages == 1:\n",
    "        axes = [axes]\n",
    "    for idx, ax in enumerate(axes):\n",
    "        image = images[idx]\n",
    "        plot_image(image, fig, ax, **kwargs)\n",
    "    return fig, axes\n",
    "\n",
    "def plot_net(theta, z, **kwargs):\n",
    "    fig, ax = plt.subplots(figsize=(4, 4))\n",
    "    ax.set(xlabel=r\"azimuthal angle, $\\theta$\", ylabel=r\"axial rise, $z$\")\n",
    "    ax.scatter(theta, z, **kwargs)\n",
    "    return fig, ax"
   ]
  },
  {
   "cell_type": "code",
   "execution_count": null,
   "metadata": {},
   "outputs": [],
   "source": [
    "# Volume filename and metadata\n",
    "filename = \"../tests/data/3jar_monomer_bfm1_ps5_28.mrc\""
   ]
  },
  {
   "cell_type": "code",
   "execution_count": null,
   "metadata": {},
   "outputs": [],
   "source": [
    "# Helical parameters\n",
    "rise = 10.8  # Angstroms\n",
    "twist = -23.8  # Degrees\n",
    "n_start = 2   \n",
    "radius = 250.0/2 # Angstroms\n",
    "n_subunits = 30"
   ]
  },
  {
   "cell_type": "code",
   "execution_count": null,
   "metadata": {},
   "outputs": [],
   "source": [
    "# Initialize the Specimen\n",
    "resolution = 5.28  # Angstroms\n",
    "density = cs.ElectronGrid.from_file(filename, config=dict(pad_scale=1.5))\n",
    "monomer = cs.Specimen(density=density, resolution=resolution)\n",
    "helix = cs.Helix(subunit=monomer, rise=rise, twist=twist, radius=radius, n_start=n_start, n_subunits=n_subunits)"
   ]
  },
  {
   "cell_type": "code",
   "execution_count": null,
   "metadata": {},
   "outputs": [],
   "source": [
    "# View the helical net\n",
    "lattice = helix.lattice\n",
    "theta, z = jnp.arctan2(lattice[:, 1], lattice[:, 0]), lattice[:, 2]\n",
    "plot_net(theta, z)"
   ]
  },
  {
   "cell_type": "code",
   "execution_count": null,
   "metadata": {},
   "outputs": [],
   "source": [
    "# Configure the image formation process\n",
    "shape = (81, 82)\n",
    "pad_scale = 1.5\n",
    "scattering = cs.FourierSliceScattering(shape=shape, pad_scale=pad_scale)"
   ]
  },
  {
   "cell_type": "code",
   "execution_count": null,
   "metadata": {},
   "outputs": [],
   "source": [
    "# Initialize the image formation pipeline\n",
    "pose = cs.EulerPose(offset_x=0.0, offset_y=0.0, view_phi=0.0, view_theta=90.0, view_psi=0.0)\n",
    "optics = cs.CTFOptics(defocus_u=10000, defocus_v=10000, amplitude_contrast=.07)\n",
    "exposure = cs.UniformExposure()\n",
    "state = cs.PipelineState(pose=pose, optics=optics, exposure=exposure)"
   ]
  },
  {
   "cell_type": "code",
   "execution_count": null,
   "metadata": {},
   "outputs": [],
   "source": [
    "# Image formation models\n",
    "scattering_model = cs.ScatteringImage(scattering=scattering, specimen=helix, state=state)\n",
    "optics_model = cs.OpticsImage(scattering=scattering, specimen=helix, state=state)"
   ]
  },
  {
   "cell_type": "code",
   "execution_count": null,
   "metadata": {},
   "outputs": [],
   "source": [
    "# Jitted models\n",
    "jitted_scattering = eqx.filter_jit(scattering_model)\n",
    "jitted_optics = eqx.filter_jit(optics_model)"
   ]
  },
  {
   "cell_type": "code",
   "execution_count": null,
   "metadata": {},
   "outputs": [],
   "source": [
    "# Plot models\n",
    "fig, axes = plot_images([jitted_scattering(), jitted_optics()])\n",
    "plt.tight_layout()"
   ]
  },
  {
   "cell_type": "code",
   "execution_count": null,
   "metadata": {},
   "outputs": [],
   "source": [
    "%timeit jitted_optics()"
   ]
  }
 ],
 "metadata": {
  "kernelspec": {
   "display_name": "cryojax",
   "language": "python",
   "name": "python3"
  },
  "language_info": {
   "codemirror_mode": {
    "name": "ipython",
    "version": 3
   },
   "file_extension": ".py",
   "mimetype": "text/x-python",
   "name": "python",
   "nbconvert_exporter": "python",
   "pygments_lexer": "ipython3",
   "version": "3.10.12"
  },
  "orig_nbformat": 4
 },
 "nbformat": 4,
 "nbformat_minor": 2
}
